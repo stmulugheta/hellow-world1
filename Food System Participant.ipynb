{
  "nbformat": 4,
  "nbformat_minor": 0,
  "metadata": {
    "kernelspec": {
      "display_name": "Python 3",
      "language": "python",
      "name": "python3"
    },
    "language_info": {
      "codemirror_mode": {
        "name": "ipython",
        "version": 3
      },
      "file_extension": ".py",
      "mimetype": "text/x-python",
      "name": "python",
      "nbconvert_exporter": "python",
      "pygments_lexer": "ipython3",
      "version": "3.8.3"
    },
    "colab": {
      "name": "EDA.ipynb",
      "provenance": [],
      "toc_visible": true,
      "include_colab_link": true
    }
  },
  "cells": [
    {
      "cell_type": "markdown",
      "metadata": {
        "id": "view-in-github",
        "colab_type": "text"
      },
      "source": [
        "<a href=\"https://colab.research.google.com/github/stmulugheta/hellow-world1/blob/main/Food%20System%20Participant.ipynb\" target=\"_parent\"><img src=\"https://colab.research.google.com/assets/colab-badge.svg\" alt=\"Open In Colab\"/></a>"
      ]
    },
    {
      "cell_type": "markdown",
      "metadata": {
        "id": "8Ha2ij4IHLeA"
      },
      "source": [
        "# Data Science/AI for Sustainable Agricutlural and Food Systems"
      ]
    },
    {
      "cell_type": "code",
      "metadata": {
        "id": "PWoiAc1YHAni"
      },
      "source": [
        "# Part"
      ],
      "execution_count": null,
      "outputs": []
    },
    {
      "cell_type": "markdown",
      "metadata": {
        "id": "ZsdspGyaH7h3"
      },
      "source": [
        "# Part I:"
      ]
    },
    {
      "cell_type": "markdown",
      "metadata": {
        "id": "wLty70dgHLeH"
      },
      "source": [
        "#### Why sustainable Systems?"
      ]
    },
    {
      "cell_type": "markdown",
      "metadata": {
        "id": "cUUYKiyJHLeI"
      },
      "source": [
        "---\n",
        "#### General Table of Content"
      ]
    },
    {
      "cell_type": "markdown",
      "metadata": {
        "id": "dpsJJE1SHLeJ"
      },
      "source": [
        "What are Exploratory Data Analysis Steps ?\n",
        "\n",
        "- Description of data\n",
        "- Handling missing data\n",
        "- Label Encoder for Categorical Data\n",
        "- Understanding relationships and new insights through plots"
      ]
    },
    {
      "cell_type": "markdown",
      "metadata": {
        "id": "OYJ1ZnMrHLeK"
      },
      "source": [
        "### Description of data"
      ]
    },
    {
      "cell_type": "markdown",
      "metadata": {
        "id": "KK6dKLsSHesV"
      },
      "source": [
        "# What is Data Science and Artificial Intelligence (AI)?"
      ]
    },
    {
      "cell_type": "code",
      "metadata": {
        "id": "h7i6IsTiHvIP"
      },
      "source": [
        "# Main codes here"
      ],
      "execution_count": 1,
      "outputs": []
    },
    {
      "cell_type": "markdown",
      "metadata": {
        "id": "7MYOeH5KHxve"
      },
      "source": [
        "# Part II:"
      ]
    },
    {
      "cell_type": "markdown",
      "metadata": {
        "id": "jpdqcYQlIBi-"
      },
      "source": [
        "# Part III:"
      ]
    },
    {
      "cell_type": "markdown",
      "metadata": {
        "id": "VYWWmOI3IG_-"
      },
      "source": [
        "# Real-world Case Study (Group Assigments)"
      ]
    },
    {
      "cell_type": "code",
      "metadata": {
        "id": "S72MOFfaIQE3"
      },
      "source": [
        "# Participants would be 5 Groups (8 persons each)\n",
        "# select a real-world problem at your local level?\n",
        "# propose how do you want to apply the data science cycles?\n",
        "  # Data collection (open sources), Select a relevant dataset from Kaggle \n",
        "  # apply all the ML steps and present the results at the end of the cources."
      ],
      "execution_count": 27,
      "outputs": []
    },
    {
      "cell_type": "markdown",
      "metadata": {
        "id": "gOPuV8e0MEcd"
      },
      "source": [
        "# Mydrive installed and important modules for google colab are also added"
      ]
    },
    {
      "cell_type": "code",
      "metadata": {
        "id": "vzKXsm8qLu_V"
      },
      "source": [
        "#!pip install PyDrive"
      ],
      "execution_count": 26,
      "outputs": []
    },
    {
      "cell_type": "markdown",
      "metadata": {
        "id": "fP4EwcO5MRwJ"
      },
      "source": [
        "# Import Important Modules"
      ]
    },
    {
      "cell_type": "code",
      "metadata": {
        "id": "iG8ULoHCMPbY"
      },
      "source": [
        "from pydrive.auth import GoogleAuth\n",
        "from pydrive.drive import GoogleDrive\n",
        "from google.colab import auth\n",
        "from oauth2client.client import GoogleCredentials"
      ],
      "execution_count": 23,
      "outputs": []
    },
    {
      "cell_type": "markdown",
      "metadata": {
        "id": "3vE5_40UMfPe"
      },
      "source": [
        "# Import Important Libraries"
      ]
    },
    {
      "cell_type": "code",
      "metadata": {
        "id": "UfZbsKWWHLeL"
      },
      "source": [
        "# importing Important libraries\n",
        "\n",
        "import numpy as np\n",
        "import pandas as pd\n",
        "import matplotlib.pyplot as plt\n",
        "import seaborn as sns \n",
        "import warnings\n",
        "warnings.filterwarnings(\"ignore\")"
      ],
      "execution_count": 25,
      "outputs": []
    },
    {
      "cell_type": "code",
      "metadata": {
        "id": "lYH_s1GrLDE0"
      },
      "source": [
        ""
      ],
      "execution_count": null,
      "outputs": []
    },
    {
      "cell_type": "markdown",
      "metadata": {
        "id": "CcN7v-B7N_Ta"
      },
      "source": [
        "# Get the File"
      ]
    },
    {
      "cell_type": "code",
      "metadata": {
        "id": "3nit7kAqODva"
      },
      "source": [
        "#downloaded = drive.CreateFile({'id':\"your_file_ID\"})   # replace the id with id of file you want to access\n",
        "#downloaded.GetContentFile('your_file_name.csv')        # replace the file name with your file"
      ],
      "execution_count": 30,
      "outputs": []
    },
    {
      "cell_type": "markdown",
      "metadata": {
        "id": "ccAe-pKnOC8A"
      },
      "source": [
        ""
      ]
    },
    {
      "cell_type": "markdown",
      "metadata": {
        "id": "snT6SwujOfs6"
      },
      "source": [
        "# Read Data\n",
        "Now using Pandas, you can read data and save as DataFrame. As my file is in csv format, I have used read_csv() function, but you can replace it with read_excel() if it is in xlsx format."
      ]
    },
    {
      "cell_type": "code",
      "metadata": {
        "id": "aQ2DFTkCOita"
      },
      "source": [
        "import pandas as pd\n",
        "#data = pd.read_csv('your_file_name.csv')"
      ],
      "execution_count": 32,
      "outputs": []
    },
    {
      "cell_type": "markdown",
      "metadata": {
        "id": "Z_5fZUQAO-xj"
      },
      "source": [
        "# Check & Finish\n",
        "Check if your file is uploaded well, and start your journey with data imported!"
      ]
    },
    {
      "cell_type": "code",
      "metadata": {
        "id": "bY_g31iKPFFD",
        "outputId": "7221561c-09f4-4d94-a20c-0c3f53231e72",
        "colab": {
          "base_uri": "https://localhost:8080/"
        }
      },
      "source": [
        "save()"
      ],
      "execution_count": 33,
      "outputs": [
        {
          "output_type": "stream",
          "name": "stdout",
          "text": [
            "'' was not found in history, as a file, url, nor in the user namespace.\n"
          ]
        }
      ]
    },
    {
      "cell_type": "code",
      "metadata": {
        "id": "3ZF-1p-yHLeP",
        "colab": {
          "base_uri": "https://localhost:8080/",
          "height": 220
        },
        "outputId": "7a4e699b-f847-4b4c-aae9-21cd4df66cd9"
      },
      "source": [
        "# Dataframe Shape\n",
        "\n",
        "print('There are {} rows and {} columns in Dataframe'.format(df.shape[0],df.shape[1]))"
      ],
      "execution_count": 28,
      "outputs": [
        {
          "output_type": "error",
          "ename": "NameError",
          "evalue": "ignored",
          "traceback": [
            "\u001b[0;31m---------------------------------------------------------------------------\u001b[0m",
            "\u001b[0;31mNameError\u001b[0m                                 Traceback (most recent call last)",
            "\u001b[0;32m<ipython-input-28-502521012fd8>\u001b[0m in \u001b[0;36m<module>\u001b[0;34m()\u001b[0m\n\u001b[1;32m      1\u001b[0m \u001b[0;31m# Dataframe Shape\u001b[0m\u001b[0;34m\u001b[0m\u001b[0;34m\u001b[0m\u001b[0;34m\u001b[0m\u001b[0m\n\u001b[1;32m      2\u001b[0m \u001b[0;34m\u001b[0m\u001b[0m\n\u001b[0;32m----> 3\u001b[0;31m \u001b[0mprint\u001b[0m\u001b[0;34m(\u001b[0m\u001b[0;34m'There are {} rows and {} columns in Dataframe'\u001b[0m\u001b[0;34m.\u001b[0m\u001b[0mformat\u001b[0m\u001b[0;34m(\u001b[0m\u001b[0mdf\u001b[0m\u001b[0;34m.\u001b[0m\u001b[0mshape\u001b[0m\u001b[0;34m[\u001b[0m\u001b[0;36m0\u001b[0m\u001b[0;34m]\u001b[0m\u001b[0;34m,\u001b[0m\u001b[0mdf\u001b[0m\u001b[0;34m.\u001b[0m\u001b[0mshape\u001b[0m\u001b[0;34m[\u001b[0m\u001b[0;36m1\u001b[0m\u001b[0;34m]\u001b[0m\u001b[0;34m)\u001b[0m\u001b[0;34m)\u001b[0m\u001b[0;34m\u001b[0m\u001b[0;34m\u001b[0m\u001b[0m\n\u001b[0m",
            "\u001b[0;31mNameError\u001b[0m: name 'df' is not defined"
          ]
        }
      ]
    },
    {
      "cell_type": "code",
      "metadata": {
        "id": "_iKapyJ9HLeQ",
        "colab": {
          "base_uri": "https://localhost:8080/"
        },
        "outputId": "0dc5f595-ff83-432b-8196-6bd8887f2e79"
      },
      "source": [
        "# Dataframe Shape\n",
        "\n",
        "df.shape"
      ],
      "execution_count": null,
      "outputs": [
        {
          "output_type": "execute_result",
          "data": {
            "text/plain": [
              "(124, 9)"
            ]
          },
          "metadata": {},
          "execution_count": 89
        }
      ]
    },
    {
      "cell_type": "code",
      "metadata": {
        "id": "4N1p40HFHLeR",
        "colab": {
          "base_uri": "https://localhost:8080/"
        },
        "outputId": "44eb143c-c9da-4d9f-a2b0-1a2ed64df83a"
      },
      "source": [
        "# Columns in dataframe\n",
        "\n",
        "df.columns"
      ],
      "execution_count": null,
      "outputs": [
        {
          "output_type": "execute_result",
          "data": {
            "text/plain": [
              "Index(['Sr.#', 'Name', 'Email', 'Profession', 'Local Chapter',\n",
              "       'Are you already familiar with following concepts?', 'Time Commitment',\n",
              "       'Motivation', 'Selection'],\n",
              "      dtype='object')"
            ]
          },
          "metadata": {},
          "execution_count": 90
        }
      ]
    },
    {
      "cell_type": "code",
      "metadata": {
        "id": "oQH5VqK9IRp5",
        "colab": {
          "base_uri": "https://localhost:8080/"
        },
        "outputId": "c37405ea-171b-41a8-fdae-54d16992d039"
      },
      "source": [
        "# Columns in dataframe\n",
        "\n",
        "df.columns"
      ],
      "execution_count": null,
      "outputs": [
        {
          "output_type": "execute_result",
          "data": {
            "text/plain": [
              "Index(['Sr.#', 'Name', 'Email', 'Profession', 'Local Chapter',\n",
              "       'Are you already familiar with following concepts?', 'Time Commitment',\n",
              "       'Motivation', 'Selection'],\n",
              "      dtype='object')"
            ]
          },
          "metadata": {},
          "execution_count": 91
        }
      ]
    },
    {
      "cell_type": "code",
      "metadata": {
        "id": "MLAe4EzYIWHZ"
      },
      "source": [
        ""
      ],
      "execution_count": null,
      "outputs": []
    },
    {
      "cell_type": "code",
      "metadata": {
        "id": "fE5lf9KGHLeR"
      },
      "source": [
        "#change Name for some columns\n",
        "\n",
        "df.rename(columns={'motivation': 'Reason_Applied'} , inplace=True)"
      ],
      "execution_count": null,
      "outputs": []
    },
    {
      "cell_type": "code",
      "metadata": {
        "id": "h_cn9C2SHLeS",
        "colab": {
          "base_uri": "https://localhost:8080/"
        },
        "outputId": "b1e69071-a40f-411a-f65f-9fd9ad643bb7"
      },
      "source": [
        "df.columns"
      ],
      "execution_count": null,
      "outputs": [
        {
          "output_type": "execute_result",
          "data": {
            "text/plain": [
              "Index(['Sr.#', 'Name', 'Email', 'Profession', 'Local Chapter',\n",
              "       'Are you already familiar with following concepts?', 'Time Commitment',\n",
              "       'Motivation', 'Selection'],\n",
              "      dtype='object')"
            ]
          },
          "metadata": {},
          "execution_count": 93
        }
      ]
    },
    {
      "cell_type": "code",
      "metadata": {
        "id": "GVBHmSBsHLeS"
      },
      "source": [
        "#to replace each ' ' to '_' in columns only \n",
        "\n",
        "df.columns = df.columns.str.replace(' ', '_')"
      ],
      "execution_count": null,
      "outputs": []
    },
    {
      "cell_type": "code",
      "metadata": {
        "id": "m9bAoYkEHLeT",
        "colab": {
          "base_uri": "https://localhost:8080/"
        },
        "outputId": "3f5cc6ee-58ed-4ddb-b9fa-f4de3f103b84"
      },
      "source": [
        "# Missing Data\n",
        "\n",
        "df.isnull().sum()"
      ],
      "execution_count": null,
      "outputs": [
        {
          "output_type": "execute_result",
          "data": {
            "text/plain": [
              "Sr.#                                                   0\n",
              "Name                                                   0\n",
              "Email                                                  0\n",
              "Profession                                             0\n",
              "Local_Chapter                                         14\n",
              "Are_you_already_familiar_with_following_concepts?      0\n",
              "Time_Commitment                                        0\n",
              "Motivation                                             0\n",
              "Selection                                            124\n",
              "dtype: int64"
            ]
          },
          "metadata": {},
          "execution_count": 95
        }
      ]
    },
    {
      "cell_type": "code",
      "metadata": {
        "id": "14Mon47FHLeT",
        "colab": {
          "base_uri": "https://localhost:8080/",
          "height": 295
        },
        "outputId": "687d7d47-8543-4d72-9507-010c902d596b"
      },
      "source": [
        "# dataframe describe\n",
        "\n",
        "df.describe()"
      ],
      "execution_count": null,
      "outputs": [
        {
          "output_type": "execute_result",
          "data": {
            "text/html": [
              "<div>\n",
              "<style scoped>\n",
              "    .dataframe tbody tr th:only-of-type {\n",
              "        vertical-align: middle;\n",
              "    }\n",
              "\n",
              "    .dataframe tbody tr th {\n",
              "        vertical-align: top;\n",
              "    }\n",
              "\n",
              "    .dataframe thead th {\n",
              "        text-align: right;\n",
              "    }\n",
              "</style>\n",
              "<table border=\"1\" class=\"dataframe\">\n",
              "  <thead>\n",
              "    <tr style=\"text-align: right;\">\n",
              "      <th></th>\n",
              "      <th>Sr.#</th>\n",
              "      <th>Selection</th>\n",
              "    </tr>\n",
              "  </thead>\n",
              "  <tbody>\n",
              "    <tr>\n",
              "      <th>count</th>\n",
              "      <td>124.000000</td>\n",
              "      <td>0.0</td>\n",
              "    </tr>\n",
              "    <tr>\n",
              "      <th>mean</th>\n",
              "      <td>62.500000</td>\n",
              "      <td>NaN</td>\n",
              "    </tr>\n",
              "    <tr>\n",
              "      <th>std</th>\n",
              "      <td>35.939764</td>\n",
              "      <td>NaN</td>\n",
              "    </tr>\n",
              "    <tr>\n",
              "      <th>min</th>\n",
              "      <td>1.000000</td>\n",
              "      <td>NaN</td>\n",
              "    </tr>\n",
              "    <tr>\n",
              "      <th>25%</th>\n",
              "      <td>31.750000</td>\n",
              "      <td>NaN</td>\n",
              "    </tr>\n",
              "    <tr>\n",
              "      <th>50%</th>\n",
              "      <td>62.500000</td>\n",
              "      <td>NaN</td>\n",
              "    </tr>\n",
              "    <tr>\n",
              "      <th>75%</th>\n",
              "      <td>93.250000</td>\n",
              "      <td>NaN</td>\n",
              "    </tr>\n",
              "    <tr>\n",
              "      <th>max</th>\n",
              "      <td>124.000000</td>\n",
              "      <td>NaN</td>\n",
              "    </tr>\n",
              "  </tbody>\n",
              "</table>\n",
              "</div>"
            ],
            "text/plain": [
              "             Sr.#  Selection\n",
              "count  124.000000        0.0\n",
              "mean    62.500000        NaN\n",
              "std     35.939764        NaN\n",
              "min      1.000000        NaN\n",
              "25%     31.750000        NaN\n",
              "50%     62.500000        NaN\n",
              "75%     93.250000        NaN\n",
              "max    124.000000        NaN"
            ]
          },
          "metadata": {},
          "execution_count": 96
        }
      ]
    },
    {
      "cell_type": "code",
      "metadata": {
        "id": "PdE0dZvpHLeU",
        "colab": {
          "base_uri": "https://localhost:8080/",
          "height": 110
        },
        "outputId": "4b379ff6-8da7-4f14-dcaf-cea1647a9670"
      },
      "source": [
        "# Dataframe correlation\n",
        "\n",
        "df.corr()"
      ],
      "execution_count": null,
      "outputs": [
        {
          "output_type": "execute_result",
          "data": {
            "text/html": [
              "<div>\n",
              "<style scoped>\n",
              "    .dataframe tbody tr th:only-of-type {\n",
              "        vertical-align: middle;\n",
              "    }\n",
              "\n",
              "    .dataframe tbody tr th {\n",
              "        vertical-align: top;\n",
              "    }\n",
              "\n",
              "    .dataframe thead th {\n",
              "        text-align: right;\n",
              "    }\n",
              "</style>\n",
              "<table border=\"1\" class=\"dataframe\">\n",
              "  <thead>\n",
              "    <tr style=\"text-align: right;\">\n",
              "      <th></th>\n",
              "      <th>Sr.#</th>\n",
              "      <th>Selection</th>\n",
              "    </tr>\n",
              "  </thead>\n",
              "  <tbody>\n",
              "    <tr>\n",
              "      <th>Sr.#</th>\n",
              "      <td>1.0</td>\n",
              "      <td>NaN</td>\n",
              "    </tr>\n",
              "    <tr>\n",
              "      <th>Selection</th>\n",
              "      <td>NaN</td>\n",
              "      <td>NaN</td>\n",
              "    </tr>\n",
              "  </tbody>\n",
              "</table>\n",
              "</div>"
            ],
            "text/plain": [
              "           Sr.#  Selection\n",
              "Sr.#        1.0        NaN\n",
              "Selection   NaN        NaN"
            ]
          },
          "metadata": {},
          "execution_count": 97
        }
      ]
    },
    {
      "cell_type": "code",
      "metadata": {
        "id": "WFftZC4MHLeV",
        "colab": {
          "base_uri": "https://localhost:8080/"
        },
        "outputId": "a4f8eec8-41e2-4955-9370-c8883f007562"
      },
      "source": [
        "df.columns"
      ],
      "execution_count": null,
      "outputs": [
        {
          "output_type": "execute_result",
          "data": {
            "text/plain": [
              "Index(['Sr.#', 'Name', 'Email', 'Profession', 'Local_Chapter',\n",
              "       'Are_you_already_familiar_with_following_concepts?', 'Time_Commitment',\n",
              "       'Motivation', 'Selection'],\n",
              "      dtype='object')"
            ]
          },
          "metadata": {},
          "execution_count": 98
        }
      ]
    },
    {
      "cell_type": "code",
      "metadata": {
        "id": "pyRl4EcrHLeV"
      },
      "source": [
        "# drop some columns \n",
        "\n",
        "#df.drop(['NaN'] ,axis= 1 , inplace = True)"
      ],
      "execution_count": null,
      "outputs": []
    },
    {
      "cell_type": "code",
      "metadata": {
        "id": "6i7vh2whHLeW",
        "colab": {
          "base_uri": "https://localhost:8080/"
        },
        "outputId": "e6b8a111-4752-49f6-bdb4-4b18e70de00a"
      },
      "source": [
        "df.columns"
      ],
      "execution_count": null,
      "outputs": [
        {
          "output_type": "execute_result",
          "data": {
            "text/plain": [
              "Index(['Sr.#', 'Name', 'Email', 'Profession', 'Local_Chapter',\n",
              "       'Are_you_already_familiar_with_following_concepts?', 'Time_Commitment',\n",
              "       'Motivation', 'Selection'],\n",
              "      dtype='object')"
            ]
          },
          "metadata": {},
          "execution_count": 100
        }
      ]
    },
    {
      "cell_type": "markdown",
      "metadata": {
        "id": "fgrIYfEZHLeW"
      },
      "source": [
        "### Handling missing data"
      ]
    },
    {
      "cell_type": "markdown",
      "metadata": {
        "id": "qJKIP_DWHLeW"
      },
      "source": [
        "https://pandas.pydata.org/pandas-docs/stable/user_guide/missing_data.html"
      ]
    },
    {
      "cell_type": "code",
      "metadata": {
        "colab": {
          "base_uri": "https://localhost:8080/"
        },
        "id": "z5LjQDR3HLeX",
        "outputId": "fa3cfc8e-02b5-413a-a829-7a1727b62918"
      },
      "source": [
        "# Missing Data\n",
        "\n",
        "df.isnull().sum()"
      ],
      "execution_count": null,
      "outputs": [
        {
          "output_type": "execute_result",
          "data": {
            "text/plain": [
              "Sr.#                                                   0\n",
              "Name                                                   0\n",
              "Email                                                  0\n",
              "Profession                                             0\n",
              "Local_Chapter                                         14\n",
              "Are_you_already_familiar_with_following_concepts?      0\n",
              "Time_Commitment                                        0\n",
              "Motivation                                             0\n",
              "Selection                                            124\n",
              "dtype: int64"
            ]
          },
          "metadata": {},
          "execution_count": 101
        }
      ]
    },
    {
      "cell_type": "code",
      "metadata": {
        "id": "Fj2MUQGlHLeX"
      },
      "source": [
        "#df['Credit_Histroy'] = df['Credit_History'].fillna(df['Credit_History'].mode()[0])"
      ],
      "execution_count": null,
      "outputs": []
    },
    {
      "cell_type": "markdown",
      "metadata": {
        "id": "s6npT0GTHLeX"
      },
      "source": [
        "##### Gender"
      ]
    },
    {
      "cell_type": "code",
      "metadata": {
        "id": "j-yqjbk4HLeY",
        "colab": {
          "base_uri": "https://localhost:8080/"
        },
        "outputId": "6b62783d-1865-4849-e466-650a7c9ee60c"
      },
      "source": [
        "df['Name'].isnull().sum()"
      ],
      "execution_count": null,
      "outputs": [
        {
          "output_type": "execute_result",
          "data": {
            "text/plain": [
              "0"
            ]
          },
          "metadata": {},
          "execution_count": 103
        }
      ]
    },
    {
      "cell_type": "code",
      "metadata": {
        "id": "KTEAkwPfHLeY",
        "colab": {
          "base_uri": "https://localhost:8080/"
        },
        "outputId": "35dd7472-1f89-4d9e-f806-ebd4b0f7b5fa"
      },
      "source": [
        "df['Email'].value_counts()"
      ],
      "execution_count": null,
      "outputs": [
        {
          "output_type": "execute_result",
          "data": {
            "text/plain": [
              "mohsen.selseleh@yahoo.com          3\n",
              "nilloallan@gmail.com               2\n",
              "lavy_kadali@yahoo.com              2\n",
              "monicazapata.delvalle@gmail.com    2\n",
              "preenu91@gmail.com                 2\n",
              "                                  ..\n",
              "Carolynemwende314@gmail.com        1\n",
              "keerthana.cali@gmail.com           1\n",
              "Manisht98@gmail.com                1\n",
              "innocentcharles217@gmail.com       1\n",
              "Sgsaisreenath@hotmail.com          1\n",
              "Name: Email, Length: 118, dtype: int64"
            ]
          },
          "metadata": {},
          "execution_count": 104
        }
      ]
    },
    {
      "cell_type": "code",
      "metadata": {
        "id": "r79Keqj-Kvn3",
        "colab": {
          "base_uri": "https://localhost:8080/"
        },
        "outputId": "5ca8189c-160b-4804-fa66-dc5da4db9910"
      },
      "source": [
        "df['Are_you_already_familiar_with_following_concepts?'].mode()"
      ],
      "execution_count": null,
      "outputs": [
        {
          "output_type": "execute_result",
          "data": {
            "text/plain": [
              "0    Basic Python,Basic Mathematics,Data Analysis.\n",
              "dtype: object"
            ]
          },
          "metadata": {},
          "execution_count": 105
        }
      ]
    },
    {
      "cell_type": "code",
      "metadata": {
        "id": "lMbe-wCHHLeY",
        "colab": {
          "base_uri": "https://localhost:8080/"
        },
        "outputId": "f29853d9-2b0e-4fdd-c5b8-425bbeb17d53"
      },
      "source": [
        "df['Local_Chapter'].mode()"
      ],
      "execution_count": null,
      "outputs": [
        {
          "output_type": "execute_result",
          "data": {
            "text/plain": [
              "0    None\n",
              "dtype: object"
            ]
          },
          "metadata": {},
          "execution_count": 106
        }
      ]
    },
    {
      "cell_type": "code",
      "metadata": {
        "id": "xQSakF4YHLeY",
        "colab": {
          "base_uri": "https://localhost:8080/"
        },
        "outputId": "987ce2f9-532c-4a84-dc6f-bdeeda41bcb3"
      },
      "source": [
        "df['Time_Commitment'].head()"
      ],
      "execution_count": null,
      "outputs": [
        {
          "output_type": "execute_result",
          "data": {
            "text/plain": [
              "0     3\n",
              "1    10\n",
              "2     3\n",
              "3     1\n",
              "4     4\n",
              "Name: Time_Commitment, dtype: object"
            ]
          },
          "metadata": {},
          "execution_count": 107
        }
      ]
    },
    {
      "cell_type": "code",
      "metadata": {
        "id": "1a_z6WnBHLeZ"
      },
      "source": [
        "#df['Gender'] = df['Gender'].fillna('Male')\n",
        "#df['Gender'] = df['Gender'].fillna(df['Gender'].mode()[0])"
      ],
      "execution_count": null,
      "outputs": []
    },
    {
      "cell_type": "code",
      "metadata": {
        "id": "_vVkcKFiHLeZ",
        "colab": {
          "base_uri": "https://localhost:8080/"
        },
        "outputId": "f9fdc033-b335-43eb-d0c7-8e5fbf5ef105"
      },
      "source": [
        "df['Motivation'].isnull().sum()"
      ],
      "execution_count": null,
      "outputs": [
        {
          "output_type": "execute_result",
          "data": {
            "text/plain": [
              "0"
            ]
          },
          "metadata": {},
          "execution_count": 109
        }
      ]
    },
    {
      "cell_type": "markdown",
      "metadata": {
        "id": "JpK9qIXSHLea"
      },
      "source": [
        "##### Selection"
      ]
    },
    {
      "cell_type": "code",
      "metadata": {
        "id": "vLhG7XhNHLea"
      },
      "source": [
        "#df['Selection'].isnull().sum()"
      ],
      "execution_count": null,
      "outputs": []
    },
    {
      "cell_type": "code",
      "metadata": {
        "id": "r70n2IHLHLeh",
        "colab": {
          "base_uri": "https://localhost:8080/",
          "height": 297
        },
        "outputId": "74e22d90-67aa-4e6a-cccb-e049746581e9"
      },
      "source": [
        "sns.boxplot(df['Selection'])"
      ],
      "execution_count": null,
      "outputs": [
        {
          "output_type": "execute_result",
          "data": {
            "text/plain": [
              "<matplotlib.axes._subplots.AxesSubplot at 0x7f83a7ca3d90>"
            ]
          },
          "metadata": {},
          "execution_count": 111
        },
        {
          "output_type": "display_data",
          "data": {
            "image/png": "[encoded data removed]",
            "text/plain": [
              "<Figure size 432x288 with 1 Axes>"
            ]
          },
          "metadata": {
            "needs_background": "light"
          }
        }
      ]
    },
    {
      "cell_type": "code",
      "metadata": {
        "id": "-ErQ0HxoHLeh"
      },
      "source": [
        ""
      ],
      "execution_count": null,
      "outputs": []
    },
    {
      "cell_type": "markdown",
      "metadata": {
        "id": "zuYj9ZVyHLeh"
      },
      "source": [
        "##### Selection Criteria"
      ]
    },
    {
      "cell_type": "code",
      "metadata": {
        "id": "JPqb3rgeHLeh",
        "colab": {
          "base_uri": "https://localhost:8080/"
        },
        "outputId": "cb673390-801d-4675-c876-5cdc0765aab3"
      },
      "source": [
        "df['Selection'].isnull().sum()"
      ],
      "execution_count": null,
      "outputs": [
        {
          "output_type": "execute_result",
          "data": {
            "text/plain": [
              "124"
            ]
          },
          "metadata": {},
          "execution_count": 112
        }
      ]
    },
    {
      "cell_type": "code",
      "metadata": {
        "id": "p8ZvMeqvHLek",
        "colab": {
          "base_uri": "https://localhost:8080/"
        },
        "outputId": "cdf3c6b5-76f9-4886-83cb-c47cec6607fc"
      },
      "source": [
        "# check fill missing Data\n",
        "\n",
        "df.isnull().sum()"
      ],
      "execution_count": null,
      "outputs": [
        {
          "output_type": "execute_result",
          "data": {
            "text/plain": [
              "Sr.#                                                   0\n",
              "Name                                                   0\n",
              "Email                                                  0\n",
              "Profession                                             0\n",
              "Local_Chapter                                         14\n",
              "Are_you_already_familiar_with_following_concepts?      0\n",
              "Time_Commitment                                        0\n",
              "Motivation                                             0\n",
              "Selection                                            124\n",
              "dtype: int64"
            ]
          },
          "metadata": {},
          "execution_count": 113
        }
      ]
    },
    {
      "cell_type": "code",
      "metadata": {
        "id": "rIEBiiCJHLel",
        "colab": {
          "base_uri": "https://localhost:8080/",
          "height": 492
        },
        "outputId": "1f7fb171-997f-47a9-cd42-fa469cb52bec"
      },
      "source": [
        "df.head()"
      ],
      "execution_count": null,
      "outputs": [
        {
          "output_type": "execute_result",
          "data": {
            "text/html": [
              "<div>\n",
              "<style scoped>\n",
              "    .dataframe tbody tr th:only-of-type {\n",
              "        vertical-align: middle;\n",
              "    }\n",
              "\n",
              "    .dataframe tbody tr th {\n",
              "        vertical-align: top;\n",
              "    }\n",
              "\n",
              "    .dataframe thead th {\n",
              "        text-align: right;\n",
              "    }\n",
              "</style>\n",
              "<table border=\"1\" class=\"dataframe\">\n",
              "  <thead>\n",
              "    <tr style=\"text-align: right;\">\n",
              "      <th></th>\n",
              "      <th>Sr.#</th>\n",
              "      <th>Name</th>\n",
              "      <th>Email</th>\n",
              "      <th>Profession</th>\n",
              "      <th>Local_Chapter</th>\n",
              "      <th>Are_you_already_familiar_with_following_concepts?</th>\n",
              "      <th>Time_Commitment</th>\n",
              "      <th>Motivation</th>\n",
              "      <th>Selection</th>\n",
              "    </tr>\n",
              "  </thead>\n",
              "  <tbody>\n",
              "    <tr>\n",
              "      <th>0</th>\n",
              "      <td>1</td>\n",
              "      <td>Manish tiwari</td>\n",
              "      <td>Manisht98@gmail.com</td>\n",
              "      <td>Student (Postgraduate)</td>\n",
              "      <td>Indian</td>\n",
              "      <td>Agricultural Sciences,Basic Python,Basic Mathe...</td>\n",
              "      <td>3</td>\n",
              "      <td>Increase my knowledge with real world project ...</td>\n",
              "      <td>NaN</td>\n",
              "    </tr>\n",
              "    <tr>\n",
              "      <th>1</th>\n",
              "      <td>2</td>\n",
              "      <td>Mohsen Selseleh</td>\n",
              "      <td>mohsen.selseleh@yahoo.com</td>\n",
              "      <td>Student (Postgraduate)</td>\n",
              "      <td>Netherland</td>\n",
              "      <td>Basic Python,Basic Mathematics,Data Analysis.</td>\n",
              "      <td>10</td>\n",
              "      <td>to learn more</td>\n",
              "      <td>NaN</td>\n",
              "    </tr>\n",
              "    <tr>\n",
              "      <th>2</th>\n",
              "      <td>3</td>\n",
              "      <td>Sivasankar Vennala</td>\n",
              "      <td>sivasankar.vennala@gmail.co</td>\n",
              "      <td>Student (Undergraduate)</td>\n",
              "      <td>Netherland</td>\n",
              "      <td>Basic Python,Basic Mathematics,Data Analysis.</td>\n",
              "      <td>3</td>\n",
              "      <td>As a student I would like to get more hands le...</td>\n",
              "      <td>NaN</td>\n",
              "    </tr>\n",
              "    <tr>\n",
              "      <th>3</th>\n",
              "      <td>4</td>\n",
              "      <td>Anvesh Mishra</td>\n",
              "      <td>Anvesh87@gmail.com</td>\n",
              "      <td>Professional</td>\n",
              "      <td>None</td>\n",
              "      <td>Basic Python,Basic Mathematics,Data Analysis.</td>\n",
              "      <td>1</td>\n",
              "      <td>In mid of career transit, this course would he...</td>\n",
              "      <td>NaN</td>\n",
              "    </tr>\n",
              "    <tr>\n",
              "      <th>4</th>\n",
              "      <td>5</td>\n",
              "      <td>Edwin M'maitsi Mwale</td>\n",
              "      <td>edukoo@gmail.com</td>\n",
              "      <td>Professional</td>\n",
              "      <td>Nairobi</td>\n",
              "      <td>Basic Python,Basic Mathematics,Data Analysis.,...</td>\n",
              "      <td>4</td>\n",
              "      <td>I am a farmer and I want to create solutions f...</td>\n",
              "      <td>NaN</td>\n",
              "    </tr>\n",
              "  </tbody>\n",
              "</table>\n",
              "</div>"
            ],
            "text/plain": [
              "   Sr.#  ... Selection\n",
              "0     1  ...       NaN\n",
              "1     2  ...       NaN\n",
              "2     3  ...       NaN\n",
              "3     4  ...       NaN\n",
              "4     5  ...       NaN\n",
              "\n",
              "[5 rows x 9 columns]"
            ]
          },
          "metadata": {},
          "execution_count": 114
        }
      ]
    },
    {
      "cell_type": "markdown",
      "metadata": {
        "id": "P3bZjThrHLel"
      },
      "source": [
        "### Encoder"
      ]
    },
    {
      "cell_type": "markdown",
      "metadata": {
        "id": "q4kifF57HLel"
      },
      "source": [
        "##### One Hot Encoder"
      ]
    },
    {
      "cell_type": "markdown",
      "metadata": {
        "id": "4tqhpbkKHLem"
      },
      "source": [
        "![ddd65f4f342886bb411d41a33c5528e7.png](attachment:ddd65f4f342886bb411d41a33c5528e7.png)"
      ]
    },
    {
      "cell_type": "code",
      "metadata": {
        "id": "7lVHPMIvHLem"
      },
      "source": [
        "df_oneHotEncoder = df.copy()"
      ],
      "execution_count": null,
      "outputs": []
    },
    {
      "cell_type": "code",
      "metadata": {
        "id": "yags5ueSHLem",
        "colab": {
          "base_uri": "https://localhost:8080/",
          "height": 1000
        },
        "outputId": "40257535-469a-45e9-eabb-db31e40fa142"
      },
      "source": [
        "df_oneHotEncoder = pd.get_dummies(df)\n",
        "df_oneHotEncoder.head()"
      ],
      "execution_count": null,
      "outputs": [
        {
          "output_type": "execute_result",
          "data": {
            "text/html": [
              "<div>\n",
              "<style scoped>\n",
              "    .dataframe tbody tr th:only-of-type {\n",
              "        vertical-align: middle;\n",
              "    }\n",
              "\n",
              "    .dataframe tbody tr th {\n",
              "        vertical-align: top;\n",
              "    }\n",
              "\n",
              "    .dataframe thead th {\n",
              "        text-align: right;\n",
              "    }\n",
              "</style>\n",
              "<table border=\"1\" class=\"dataframe\">\n",
              "  <thead>\n",
              "    <tr style=\"text-align: right;\">\n",
              "      <th></th>\n",
              "      <th>Sr.#</th>\n",
              "      <th>Selection</th>\n",
              "      <th>Name_ABDULAZEEZ ABDULATEEF JIBOLA</th>\n",
              "      <th>Name_Aakash</th>\n",
              "      <th>Name_Aayush Bhatta</th>\n",
              "      <th>Name_Ahmed Ali</th>\n",
              "      <th>Name_Ahmed Saqib</th>\n",
              "      <th>Name_Aishwarya(Aisha) Gurung</th>\n",
              "      <th>Name_Ajay V Babu</th>\n",
              "      <th>Name_Akshat kumar jain</th>\n",
              "      <th>Name_Ankur Shah</th>\n",
              "      <th>Name_Anthony</th>\n",
              "      <th>Name_Anvesh Mishra</th>\n",
              "      <th>Name_Areeb Muhammad Khawaja</th>\n",
              "      <th>Name_Armielyn Carabot Obinguar</th>\n",
              "      <th>Name_Arthur</th>\n",
              "      <th>Name_Ashish Solanki</th>\n",
              "      <th>Name_BENARD MATU</th>\n",
              "      <th>Name_Carlos Mario Larrahondo Valencia</th>\n",
              "      <th>Name_Carolyne Mutua</th>\n",
              "      <th>Name_Cezane Karki</th>\n",
              "      <th>Name_Charmaine Torres</th>\n",
              "      <th>Name_Dmitriy</th>\n",
              "      <th>Name_Dr Sanjay Chitnis</th>\n",
              "      <th>Name_Dr. Laxmi B Rananavare</th>\n",
              "      <th>Name_ERIC KIMWATAN</th>\n",
              "      <th>Name_Edwin M'maitsi Mwale</th>\n",
              "      <th>Name_Eliniel Valdez</th>\n",
              "      <th>Name_Elshaimaa Ismael</th>\n",
              "      <th>Name_Gabriela Catalina</th>\n",
              "      <th>Name_Ghazal  Ba khadher</th>\n",
              "      <th>Name_Grace Kanja</th>\n",
              "      <th>Name_Heba Kamel</th>\n",
              "      <th>Name_Hollero , John Jherlet</th>\n",
              "      <th>Name_INNOCENT CHARLES</th>\n",
              "      <th>Name_Ilma Aliya Fiddien</th>\n",
              "      <th>Name_Ines</th>\n",
              "      <th>Name_Isabella</th>\n",
              "      <th>Name_Ishwari Ghule</th>\n",
              "      <th>Name_Ivan Tzompov</th>\n",
              "      <th>...</th>\n",
              "      <th>Motivation_My thesis interest as I study for my econometrics masters is in the field of agricultural produce and food prices. I would like to understand agricultural systems as a data scientists to be able to become a professional in the field as well as produce research at a world class level.</th>\n",
              "      <th>Motivation_Open future opportunities in the field of data science.</th>\n",
              "      <th>Motivation_Professional development</th>\n",
              "      <th>Motivation_Recently, I started learning data science from Coursera platform, the course is offered by IBM. I really loved the content. It was great for learning the basics and theory, however, there was little hand on training and working on a real world problem can teach me more rather than just learning the theoretical aspect. The course is aimed for complete beginners like me but now I want to learn more advanced stuff and apply my knowledge on real world problems, so I can assess myself and learn more. I was trying to get a job as a data scientist but due to lack of practical experience, I could not land even an entry level job.  Through this course I am thinking about closing this gap, as I am extremely passionate and curious about getting some practical experience and landing my first dream job.</th>\n",
              "      <th>Motivation_Research, contribute to Omdena Projects and Learn.</th>\n",
              "      <th>Motivation_Since My Masters Thesis is based on monitoring Crop Health using Remote Sensing which made more and more keen interest to join the course</th>\n",
              "      <th>Motivation_Specifically for my professional goals, I am keen to go through whole process of developing and deploying an AI algorithm/ solutions towards solving food security issues in Africa</th>\n",
              "      <th>Motivation_This course will help me in the research work, to use sustainable solutions in veterinary animal health and environmental protection</th>\n",
              "      <th>Motivation_This course would greatly help me to have background knowledge on this field and I can use it for future purpose like research.</th>\n",
              "      <th>Motivation_To get some knowledge</th>\n",
              "      <th>Motivation_To grow my data science skills</th>\n",
              "      <th>Motivation_To grow skills and gain experience</th>\n",
              "      <th>Motivation_To improve my data analysis skills</th>\n",
              "      <th>Motivation_To improve my knowledge and skills. I am really interested in working with projects related to sustainability like reducing food waste, improving efficiency, etc.</th>\n",
              "      <th>Motivation_To improve professional qualifications and approach reality projects</th>\n",
              "      <th>Motivation_To learn and be able to make impact</th>\n",
              "      <th>Motivation_To learn from some world class research oriented team. To grow my knowledge and apply to solve real world problems.</th>\n",
              "      <th>Motivation_To learn more about data Science</th>\n",
              "      <th>Motivation_To make students to do projects on Ahricultural domain</th>\n",
              "      <th>Motivation_To upskill my data analysis skills using emerging technologies such as AI</th>\n",
              "      <th>Motivation_To upskill my data analysis skills using emerging technologies.</th>\n",
              "      <th>Motivation_Want to explore agriculture domain and impact</th>\n",
              "      <th>Motivation_Why I want to learn real life cases in data science to contribute to my country and become a better professional.</th>\n",
              "      <th>Motivation_doing MS Thesis in Agriculture</th>\n",
              "      <th>Motivation_get more insights about dl</th>\n",
              "      <th>Motivation_i am pursuing MSc in Data Science and Analytics. I want to get practical knowledge,</th>\n",
              "      <th>Motivation_i having a prior knowledge in data science i want to expand this with the community like omdena which is providing project based learning</th>\n",
              "      <th>Motivation_improve knowledge</th>\n",
              "      <th>Motivation_learn</th>\n",
              "      <th>Motivation_learn more and develop my data science skill</th>\n",
              "      <th>Motivation_learn new things and professional improvement</th>\n",
              "      <th>Motivation_learning</th>\n",
              "      <th>Motivation_my master degree in assessment climate change impact in agriculture using gis and remote sensing software will contin</th>\n",
              "      <th>Motivation_phd</th>\n",
              "      <th>Motivation_to gain experience and skill in the data science domain.</th>\n",
              "      <th>Motivation_to get familiar with real use case of ML</th>\n",
              "      <th>Motivation_to learn and increase my knowledge on the data science for sustainable argricultural</th>\n",
              "      <th>Motivation_to learn more</th>\n",
              "      <th>Motivation_to put into use redundant data in agriculture</th>\n",
              "      <th>Motivation_will help me better understand Agricultural Food System and gain knowledge to apply in this domain in professional project development</th>\n",
              "    </tr>\n",
              "  </thead>\n",
              "  <tbody>\n",
              "    <tr>\n",
              "      <th>0</th>\n",
              "      <td>1</td>\n",
              "      <td>NaN</td>\n",
              "      <td>0</td>\n",
              "      <td>0</td>\n",
              "      <td>0</td>\n",
              "      <td>0</td>\n",
              "      <td>0</td>\n",
              "      <td>0</td>\n",
              "      <td>0</td>\n",
              "      <td>0</td>\n",
              "      <td>0</td>\n",
              "      <td>0</td>\n",
              "      <td>0</td>\n",
              "      <td>0</td>\n",
              "      <td>0</td>\n",
              "      <td>0</td>\n",
              "      <td>0</td>\n",
              "      <td>0</td>\n",
              "      <td>0</td>\n",
              "      <td>0</td>\n",
              "      <td>0</td>\n",
              "      <td>0</td>\n",
              "      <td>0</td>\n",
              "      <td>0</td>\n",
              "      <td>0</td>\n",
              "      <td>0</td>\n",
              "      <td>0</td>\n",
              "      <td>0</td>\n",
              "      <td>0</td>\n",
              "      <td>0</td>\n",
              "      <td>0</td>\n",
              "      <td>0</td>\n",
              "      <td>0</td>\n",
              "      <td>0</td>\n",
              "      <td>0</td>\n",
              "      <td>0</td>\n",
              "      <td>0</td>\n",
              "      <td>0</td>\n",
              "      <td>0</td>\n",
              "      <td>0</td>\n",
              "      <td>...</td>\n",
              "      <td>0</td>\n",
              "      <td>0</td>\n",
              "      <td>0</td>\n",
              "      <td>0</td>\n",
              "      <td>0</td>\n",
              "      <td>0</td>\n",
              "      <td>0</td>\n",
              "      <td>0</td>\n",
              "      <td>0</td>\n",
              "      <td>0</td>\n",
              "      <td>0</td>\n",
              "      <td>0</td>\n",
              "      <td>0</td>\n",
              "      <td>0</td>\n",
              "      <td>0</td>\n",
              "      <td>0</td>\n",
              "      <td>0</td>\n",
              "      <td>0</td>\n",
              "      <td>0</td>\n",
              "      <td>0</td>\n",
              "      <td>0</td>\n",
              "      <td>0</td>\n",
              "      <td>0</td>\n",
              "      <td>0</td>\n",
              "      <td>0</td>\n",
              "      <td>0</td>\n",
              "      <td>0</td>\n",
              "      <td>0</td>\n",
              "      <td>0</td>\n",
              "      <td>0</td>\n",
              "      <td>0</td>\n",
              "      <td>0</td>\n",
              "      <td>0</td>\n",
              "      <td>0</td>\n",
              "      <td>0</td>\n",
              "      <td>0</td>\n",
              "      <td>0</td>\n",
              "      <td>0</td>\n",
              "      <td>0</td>\n",
              "      <td>0</td>\n",
              "    </tr>\n",
              "    <tr>\n",
              "      <th>1</th>\n",
              "      <td>2</td>\n",
              "      <td>NaN</td>\n",
              "      <td>0</td>\n",
              "      <td>0</td>\n",
              "      <td>0</td>\n",
              "      <td>0</td>\n",
              "      <td>0</td>\n",
              "      <td>0</td>\n",
              "      <td>0</td>\n",
              "      <td>0</td>\n",
              "      <td>0</td>\n",
              "      <td>0</td>\n",
              "      <td>0</td>\n",
              "      <td>0</td>\n",
              "      <td>0</td>\n",
              "      <td>0</td>\n",
              "      <td>0</td>\n",
              "      <td>0</td>\n",
              "      <td>0</td>\n",
              "      <td>0</td>\n",
              "      <td>0</td>\n",
              "      <td>0</td>\n",
              "      <td>0</td>\n",
              "      <td>0</td>\n",
              "      <td>0</td>\n",
              "      <td>0</td>\n",
              "      <td>0</td>\n",
              "      <td>0</td>\n",
              "      <td>0</td>\n",
              "      <td>0</td>\n",
              "      <td>0</td>\n",
              "      <td>0</td>\n",
              "      <td>0</td>\n",
              "      <td>0</td>\n",
              "      <td>0</td>\n",
              "      <td>0</td>\n",
              "      <td>0</td>\n",
              "      <td>0</td>\n",
              "      <td>0</td>\n",
              "      <td>0</td>\n",
              "      <td>...</td>\n",
              "      <td>0</td>\n",
              "      <td>0</td>\n",
              "      <td>0</td>\n",
              "      <td>0</td>\n",
              "      <td>0</td>\n",
              "      <td>0</td>\n",
              "      <td>0</td>\n",
              "      <td>0</td>\n",
              "      <td>0</td>\n",
              "      <td>0</td>\n",
              "      <td>0</td>\n",
              "      <td>0</td>\n",
              "      <td>0</td>\n",
              "      <td>0</td>\n",
              "      <td>0</td>\n",
              "      <td>0</td>\n",
              "      <td>0</td>\n",
              "      <td>0</td>\n",
              "      <td>0</td>\n",
              "      <td>0</td>\n",
              "      <td>0</td>\n",
              "      <td>0</td>\n",
              "      <td>0</td>\n",
              "      <td>0</td>\n",
              "      <td>0</td>\n",
              "      <td>0</td>\n",
              "      <td>0</td>\n",
              "      <td>0</td>\n",
              "      <td>0</td>\n",
              "      <td>0</td>\n",
              "      <td>0</td>\n",
              "      <td>0</td>\n",
              "      <td>0</td>\n",
              "      <td>0</td>\n",
              "      <td>0</td>\n",
              "      <td>0</td>\n",
              "      <td>0</td>\n",
              "      <td>1</td>\n",
              "      <td>0</td>\n",
              "      <td>0</td>\n",
              "    </tr>\n",
              "    <tr>\n",
              "      <th>2</th>\n",
              "      <td>3</td>\n",
              "      <td>NaN</td>\n",
              "      <td>0</td>\n",
              "      <td>0</td>\n",
              "      <td>0</td>\n",
              "      <td>0</td>\n",
              "      <td>0</td>\n",
              "      <td>0</td>\n",
              "      <td>0</td>\n",
              "      <td>0</td>\n",
              "      <td>0</td>\n",
              "      <td>0</td>\n",
              "      <td>0</td>\n",
              "      <td>0</td>\n",
              "      <td>0</td>\n",
              "      <td>0</td>\n",
              "      <td>0</td>\n",
              "      <td>0</td>\n",
              "      <td>0</td>\n",
              "      <td>0</td>\n",
              "      <td>0</td>\n",
              "      <td>0</td>\n",
              "      <td>0</td>\n",
              "      <td>0</td>\n",
              "      <td>0</td>\n",
              "      <td>0</td>\n",
              "      <td>0</td>\n",
              "      <td>0</td>\n",
              "      <td>0</td>\n",
              "      <td>0</td>\n",
              "      <td>0</td>\n",
              "      <td>0</td>\n",
              "      <td>0</td>\n",
              "      <td>0</td>\n",
              "      <td>0</td>\n",
              "      <td>0</td>\n",
              "      <td>0</td>\n",
              "      <td>0</td>\n",
              "      <td>0</td>\n",
              "      <td>0</td>\n",
              "      <td>...</td>\n",
              "      <td>0</td>\n",
              "      <td>0</td>\n",
              "      <td>0</td>\n",
              "      <td>0</td>\n",
              "      <td>0</td>\n",
              "      <td>0</td>\n",
              "      <td>0</td>\n",
              "      <td>0</td>\n",
              "      <td>0</td>\n",
              "      <td>0</td>\n",
              "      <td>0</td>\n",
              "      <td>0</td>\n",
              "      <td>0</td>\n",
              "      <td>0</td>\n",
              "      <td>0</td>\n",
              "      <td>0</td>\n",
              "      <td>0</td>\n",
              "      <td>0</td>\n",
              "      <td>0</td>\n",
              "      <td>0</td>\n",
              "      <td>0</td>\n",
              "      <td>0</td>\n",
              "      <td>0</td>\n",
              "      <td>0</td>\n",
              "      <td>0</td>\n",
              "      <td>0</td>\n",
              "      <td>0</td>\n",
              "      <td>0</td>\n",
              "      <td>0</td>\n",
              "      <td>0</td>\n",
              "      <td>0</td>\n",
              "      <td>0</td>\n",
              "      <td>0</td>\n",
              "      <td>0</td>\n",
              "      <td>0</td>\n",
              "      <td>0</td>\n",
              "      <td>0</td>\n",
              "      <td>0</td>\n",
              "      <td>0</td>\n",
              "      <td>0</td>\n",
              "    </tr>\n",
              "    <tr>\n",
              "      <th>3</th>\n",
              "      <td>4</td>\n",
              "      <td>NaN</td>\n",
              "      <td>0</td>\n",
              "      <td>0</td>\n",
              "      <td>0</td>\n",
              "      <td>0</td>\n",
              "      <td>0</td>\n",
              "      <td>0</td>\n",
              "      <td>0</td>\n",
              "      <td>0</td>\n",
              "      <td>0</td>\n",
              "      <td>0</td>\n",
              "      <td>1</td>\n",
              "      <td>0</td>\n",
              "      <td>0</td>\n",
              "      <td>0</td>\n",
              "      <td>0</td>\n",
              "      <td>0</td>\n",
              "      <td>0</td>\n",
              "      <td>0</td>\n",
              "      <td>0</td>\n",
              "      <td>0</td>\n",
              "      <td>0</td>\n",
              "      <td>0</td>\n",
              "      <td>0</td>\n",
              "      <td>0</td>\n",
              "      <td>0</td>\n",
              "      <td>0</td>\n",
              "      <td>0</td>\n",
              "      <td>0</td>\n",
              "      <td>0</td>\n",
              "      <td>0</td>\n",
              "      <td>0</td>\n",
              "      <td>0</td>\n",
              "      <td>0</td>\n",
              "      <td>0</td>\n",
              "      <td>0</td>\n",
              "      <td>0</td>\n",
              "      <td>0</td>\n",
              "      <td>0</td>\n",
              "      <td>...</td>\n",
              "      <td>0</td>\n",
              "      <td>0</td>\n",
              "      <td>0</td>\n",
              "      <td>0</td>\n",
              "      <td>0</td>\n",
              "      <td>0</td>\n",
              "      <td>0</td>\n",
              "      <td>0</td>\n",
              "      <td>0</td>\n",
              "      <td>0</td>\n",
              "      <td>0</td>\n",
              "      <td>0</td>\n",
              "      <td>0</td>\n",
              "      <td>0</td>\n",
              "      <td>0</td>\n",
              "      <td>0</td>\n",
              "      <td>0</td>\n",
              "      <td>0</td>\n",
              "      <td>0</td>\n",
              "      <td>0</td>\n",
              "      <td>0</td>\n",
              "      <td>0</td>\n",
              "      <td>0</td>\n",
              "      <td>0</td>\n",
              "      <td>0</td>\n",
              "      <td>0</td>\n",
              "      <td>0</td>\n",
              "      <td>0</td>\n",
              "      <td>0</td>\n",
              "      <td>0</td>\n",
              "      <td>0</td>\n",
              "      <td>0</td>\n",
              "      <td>0</td>\n",
              "      <td>0</td>\n",
              "      <td>0</td>\n",
              "      <td>0</td>\n",
              "      <td>0</td>\n",
              "      <td>0</td>\n",
              "      <td>0</td>\n",
              "      <td>0</td>\n",
              "    </tr>\n",
              "    <tr>\n",
              "      <th>4</th>\n",
              "      <td>5</td>\n",
              "      <td>NaN</td>\n",
              "      <td>0</td>\n",
              "      <td>0</td>\n",
              "      <td>0</td>\n",
              "      <td>0</td>\n",
              "      <td>0</td>\n",
              "      <td>0</td>\n",
              "      <td>0</td>\n",
              "      <td>0</td>\n",
              "      <td>0</td>\n",
              "      <td>0</td>\n",
              "      <td>0</td>\n",
              "      <td>0</td>\n",
              "      <td>0</td>\n",
              "      <td>0</td>\n",
              "      <td>0</td>\n",
              "      <td>0</td>\n",
              "      <td>0</td>\n",
              "      <td>0</td>\n",
              "      <td>0</td>\n",
              "      <td>0</td>\n",
              "      <td>0</td>\n",
              "      <td>0</td>\n",
              "      <td>0</td>\n",
              "      <td>0</td>\n",
              "      <td>1</td>\n",
              "      <td>0</td>\n",
              "      <td>0</td>\n",
              "      <td>0</td>\n",
              "      <td>0</td>\n",
              "      <td>0</td>\n",
              "      <td>0</td>\n",
              "      <td>0</td>\n",
              "      <td>0</td>\n",
              "      <td>0</td>\n",
              "      <td>0</td>\n",
              "      <td>0</td>\n",
              "      <td>0</td>\n",
              "      <td>0</td>\n",
              "      <td>...</td>\n",
              "      <td>0</td>\n",
              "      <td>0</td>\n",
              "      <td>0</td>\n",
              "      <td>0</td>\n",
              "      <td>0</td>\n",
              "      <td>0</td>\n",
              "      <td>0</td>\n",
              "      <td>0</td>\n",
              "      <td>0</td>\n",
              "      <td>0</td>\n",
              "      <td>0</td>\n",
              "      <td>0</td>\n",
              "      <td>0</td>\n",
              "      <td>0</td>\n",
              "      <td>0</td>\n",
              "      <td>0</td>\n",
              "      <td>0</td>\n",
              "      <td>0</td>\n",
              "      <td>0</td>\n",
              "      <td>0</td>\n",
              "      <td>0</td>\n",
              "      <td>0</td>\n",
              "      <td>0</td>\n",
              "      <td>0</td>\n",
              "      <td>0</td>\n",
              "      <td>0</td>\n",
              "      <td>0</td>\n",
              "      <td>0</td>\n",
              "      <td>0</td>\n",
              "      <td>0</td>\n",
              "      <td>0</td>\n",
              "      <td>0</td>\n",
              "      <td>0</td>\n",
              "      <td>0</td>\n",
              "      <td>0</td>\n",
              "      <td>0</td>\n",
              "      <td>0</td>\n",
              "      <td>0</td>\n",
              "      <td>0</td>\n",
              "      <td>0</td>\n",
              "    </tr>\n",
              "  </tbody>\n",
              "</table>\n",
              "<p>5 rows × 508 columns</p>\n",
              "</div>"
            ],
            "text/plain": [
              "   Sr.#  ...  Motivation_will help me better understand Agricultural Food System and gain knowledge to apply in this domain in professional project development \n",
              "0     1  ...                                                  0                                                                                                 \n",
              "1     2  ...                                                  0                                                                                                 \n",
              "2     3  ...                                                  0                                                                                                 \n",
              "3     4  ...                                                  0                                                                                                 \n",
              "4     5  ...                                                  0                                                                                                 \n",
              "\n",
              "[5 rows x 508 columns]"
            ]
          },
          "metadata": {},
          "execution_count": 116
        }
      ]
    },
    {
      "cell_type": "markdown",
      "metadata": {
        "id": "l0vxiHaUHLem"
      },
      "source": [
        "##### Label Encoder"
      ]
    },
    {
      "cell_type": "markdown",
      "metadata": {
        "id": "1tFP961cHLem"
      },
      "source": [
        "![label_encoding.png](attachment:label_encoding.png)"
      ]
    },
    {
      "cell_type": "code",
      "metadata": {
        "id": "dBwlrvzTHLen",
        "colab": {
          "base_uri": "https://localhost:8080/"
        },
        "outputId": "aeb10c62-c293-4bf8-9a90-55e8e5e1d5fc"
      },
      "source": [
        "df.info()"
      ],
      "execution_count": null,
      "outputs": [
        {
          "output_type": "stream",
          "name": "stdout",
          "text": [
            "<class 'pandas.core.frame.DataFrame'>\n",
            "RangeIndex: 124 entries, 0 to 123\n",
            "Data columns (total 9 columns):\n",
            " #   Column                                             Non-Null Count  Dtype  \n",
            "---  ------                                             --------------  -----  \n",
            " 0   Sr.#                                               124 non-null    int64  \n",
            " 1   Name                                               124 non-null    object \n",
            " 2   Email                                              124 non-null    object \n",
            " 3   Profession                                         124 non-null    object \n",
            " 4   Local_Chapter                                      110 non-null    object \n",
            " 5   Are_you_already_familiar_with_following_concepts?  124 non-null    object \n",
            " 6   Time_Commitment                                    124 non-null    object \n",
            " 7   Motivation                                         124 non-null    object \n",
            " 8   Selection                                          0 non-null      float64\n",
            "dtypes: float64(1), int64(1), object(7)\n",
            "memory usage: 8.8+ KB\n"
          ]
        }
      ]
    },
    {
      "cell_type": "code",
      "metadata": {
        "id": "OHBE2Dd5Numl",
        "colab": {
          "base_uri": "https://localhost:8080/",
          "height": 295
        },
        "outputId": "4932f289-9fa8-49a0-ac6b-4191b1d1540e"
      },
      "source": [
        "# dataframe describe\n",
        "\n",
        "df.describe()"
      ],
      "execution_count": null,
      "outputs": [
        {
          "output_type": "execute_result",
          "data": {
            "text/html": [
              "<div>\n",
              "<style scoped>\n",
              "    .dataframe tbody tr th:only-of-type {\n",
              "        vertical-align: middle;\n",
              "    }\n",
              "\n",
              "    .dataframe tbody tr th {\n",
              "        vertical-align: top;\n",
              "    }\n",
              "\n",
              "    .dataframe thead th {\n",
              "        text-align: right;\n",
              "    }\n",
              "</style>\n",
              "<table border=\"1\" class=\"dataframe\">\n",
              "  <thead>\n",
              "    <tr style=\"text-align: right;\">\n",
              "      <th></th>\n",
              "      <th>Sr.#</th>\n",
              "      <th>Selection</th>\n",
              "    </tr>\n",
              "  </thead>\n",
              "  <tbody>\n",
              "    <tr>\n",
              "      <th>count</th>\n",
              "      <td>124.000000</td>\n",
              "      <td>0.0</td>\n",
              "    </tr>\n",
              "    <tr>\n",
              "      <th>mean</th>\n",
              "      <td>62.500000</td>\n",
              "      <td>NaN</td>\n",
              "    </tr>\n",
              "    <tr>\n",
              "      <th>std</th>\n",
              "      <td>35.939764</td>\n",
              "      <td>NaN</td>\n",
              "    </tr>\n",
              "    <tr>\n",
              "      <th>min</th>\n",
              "      <td>1.000000</td>\n",
              "      <td>NaN</td>\n",
              "    </tr>\n",
              "    <tr>\n",
              "      <th>25%</th>\n",
              "      <td>31.750000</td>\n",
              "      <td>NaN</td>\n",
              "    </tr>\n",
              "    <tr>\n",
              "      <th>50%</th>\n",
              "      <td>62.500000</td>\n",
              "      <td>NaN</td>\n",
              "    </tr>\n",
              "    <tr>\n",
              "      <th>75%</th>\n",
              "      <td>93.250000</td>\n",
              "      <td>NaN</td>\n",
              "    </tr>\n",
              "    <tr>\n",
              "      <th>max</th>\n",
              "      <td>124.000000</td>\n",
              "      <td>NaN</td>\n",
              "    </tr>\n",
              "  </tbody>\n",
              "</table>\n",
              "</div>"
            ],
            "text/plain": [
              "             Sr.#  Selection\n",
              "count  124.000000        0.0\n",
              "mean    62.500000        NaN\n",
              "std     35.939764        NaN\n",
              "min      1.000000        NaN\n",
              "25%     31.750000        NaN\n",
              "50%     62.500000        NaN\n",
              "75%     93.250000        NaN\n",
              "max    124.000000        NaN"
            ]
          },
          "metadata": {},
          "execution_count": 118
        }
      ]
    },
    {
      "cell_type": "code",
      "metadata": {
        "id": "zvO-QastNnY_",
        "colab": {
          "base_uri": "https://localhost:8080/",
          "height": 110
        },
        "outputId": "4ce97445-7c2f-45ec-cfb5-f14398bf9021"
      },
      "source": [
        "# Dataframe correlation\n",
        "\n",
        "df.corr()"
      ],
      "execution_count": null,
      "outputs": [
        {
          "output_type": "execute_result",
          "data": {
            "text/html": [
              "<div>\n",
              "<style scoped>\n",
              "    .dataframe tbody tr th:only-of-type {\n",
              "        vertical-align: middle;\n",
              "    }\n",
              "\n",
              "    .dataframe tbody tr th {\n",
              "        vertical-align: top;\n",
              "    }\n",
              "\n",
              "    .dataframe thead th {\n",
              "        text-align: right;\n",
              "    }\n",
              "</style>\n",
              "<table border=\"1\" class=\"dataframe\">\n",
              "  <thead>\n",
              "    <tr style=\"text-align: right;\">\n",
              "      <th></th>\n",
              "      <th>Sr.#</th>\n",
              "      <th>Selection</th>\n",
              "    </tr>\n",
              "  </thead>\n",
              "  <tbody>\n",
              "    <tr>\n",
              "      <th>Sr.#</th>\n",
              "      <td>1.0</td>\n",
              "      <td>NaN</td>\n",
              "    </tr>\n",
              "    <tr>\n",
              "      <th>Selection</th>\n",
              "      <td>NaN</td>\n",
              "      <td>NaN</td>\n",
              "    </tr>\n",
              "  </tbody>\n",
              "</table>\n",
              "</div>"
            ],
            "text/plain": [
              "           Sr.#  Selection\n",
              "Sr.#        1.0        NaN\n",
              "Selection   NaN        NaN"
            ]
          },
          "metadata": {},
          "execution_count": 119
        }
      ]
    },
    {
      "cell_type": "code",
      "metadata": {
        "id": "hT3fFaj2Nqn0",
        "colab": {
          "base_uri": "https://localhost:8080/"
        },
        "outputId": "f0d3b2ba-9bd1-4864-8adb-7f50bc81ef49"
      },
      "source": [
        "\n",
        "df.columns"
      ],
      "execution_count": null,
      "outputs": [
        {
          "output_type": "execute_result",
          "data": {
            "text/plain": [
              "Index(['Sr.#', 'Name', 'Email', 'Profession', 'Local_Chapter',\n",
              "       'Are_you_already_familiar_with_following_concepts?', 'Time_Commitment',\n",
              "       'Motivation', 'Selection'],\n",
              "      dtype='object')"
            ]
          },
          "metadata": {},
          "execution_count": 120
        }
      ]
    },
    {
      "cell_type": "code",
      "metadata": {
        "id": "aF12FI8bN5Yw",
        "colab": {
          "base_uri": "https://localhost:8080/",
          "height": 492
        },
        "outputId": "a1b880e6-b527-461b-a8ff-66f7b8574da8"
      },
      "source": [
        "df.head()"
      ],
      "execution_count": null,
      "outputs": [
        {
          "output_type": "execute_result",
          "data": {
            "text/html": [
              "<div>\n",
              "<style scoped>\n",
              "    .dataframe tbody tr th:only-of-type {\n",
              "        vertical-align: middle;\n",
              "    }\n",
              "\n",
              "    .dataframe tbody tr th {\n",
              "        vertical-align: top;\n",
              "    }\n",
              "\n",
              "    .dataframe thead th {\n",
              "        text-align: right;\n",
              "    }\n",
              "</style>\n",
              "<table border=\"1\" class=\"dataframe\">\n",
              "  <thead>\n",
              "    <tr style=\"text-align: right;\">\n",
              "      <th></th>\n",
              "      <th>Sr.#</th>\n",
              "      <th>Name</th>\n",
              "      <th>Email</th>\n",
              "      <th>Profession</th>\n",
              "      <th>Local_Chapter</th>\n",
              "      <th>Are_you_already_familiar_with_following_concepts?</th>\n",
              "      <th>Time_Commitment</th>\n",
              "      <th>Motivation</th>\n",
              "      <th>Selection</th>\n",
              "    </tr>\n",
              "  </thead>\n",
              "  <tbody>\n",
              "    <tr>\n",
              "      <th>0</th>\n",
              "      <td>1</td>\n",
              "      <td>Manish tiwari</td>\n",
              "      <td>Manisht98@gmail.com</td>\n",
              "      <td>Student (Postgraduate)</td>\n",
              "      <td>Indian</td>\n",
              "      <td>Agricultural Sciences,Basic Python,Basic Mathe...</td>\n",
              "      <td>3</td>\n",
              "      <td>Increase my knowledge with real world project ...</td>\n",
              "      <td>NaN</td>\n",
              "    </tr>\n",
              "    <tr>\n",
              "      <th>1</th>\n",
              "      <td>2</td>\n",
              "      <td>Mohsen Selseleh</td>\n",
              "      <td>mohsen.selseleh@yahoo.com</td>\n",
              "      <td>Student (Postgraduate)</td>\n",
              "      <td>Netherland</td>\n",
              "      <td>Basic Python,Basic Mathematics,Data Analysis.</td>\n",
              "      <td>10</td>\n",
              "      <td>to learn more</td>\n",
              "      <td>NaN</td>\n",
              "    </tr>\n",
              "    <tr>\n",
              "      <th>2</th>\n",
              "      <td>3</td>\n",
              "      <td>Sivasankar Vennala</td>\n",
              "      <td>sivasankar.vennala@gmail.co</td>\n",
              "      <td>Student (Undergraduate)</td>\n",
              "      <td>Netherland</td>\n",
              "      <td>Basic Python,Basic Mathematics,Data Analysis.</td>\n",
              "      <td>3</td>\n",
              "      <td>As a student I would like to get more hands le...</td>\n",
              "      <td>NaN</td>\n",
              "    </tr>\n",
              "    <tr>\n",
              "      <th>3</th>\n",
              "      <td>4</td>\n",
              "      <td>Anvesh Mishra</td>\n",
              "      <td>Anvesh87@gmail.com</td>\n",
              "      <td>Professional</td>\n",
              "      <td>None</td>\n",
              "      <td>Basic Python,Basic Mathematics,Data Analysis.</td>\n",
              "      <td>1</td>\n",
              "      <td>In mid of career transit, this course would he...</td>\n",
              "      <td>NaN</td>\n",
              "    </tr>\n",
              "    <tr>\n",
              "      <th>4</th>\n",
              "      <td>5</td>\n",
              "      <td>Edwin M'maitsi Mwale</td>\n",
              "      <td>edukoo@gmail.com</td>\n",
              "      <td>Professional</td>\n",
              "      <td>Nairobi</td>\n",
              "      <td>Basic Python,Basic Mathematics,Data Analysis.,...</td>\n",
              "      <td>4</td>\n",
              "      <td>I am a farmer and I want to create solutions f...</td>\n",
              "      <td>NaN</td>\n",
              "    </tr>\n",
              "  </tbody>\n",
              "</table>\n",
              "</div>"
            ],
            "text/plain": [
              "   Sr.#  ... Selection\n",
              "0     1  ...       NaN\n",
              "1     2  ...       NaN\n",
              "2     3  ...       NaN\n",
              "3     4  ...       NaN\n",
              "4     5  ...       NaN\n",
              "\n",
              "[5 rows x 9 columns]"
            ]
          },
          "metadata": {},
          "execution_count": 121
        }
      ]
    },
    {
      "cell_type": "code",
      "metadata": {
        "id": "LQSvzOh7HLen"
      },
      "source": [
        "#df[['Name' , 'Email' , 'Profession' , 'Local_Chapter','Are_you_aleady_familiar_with_following_concepts?' , 'Time_Commitment' , 'Motivation *]].head()"
      ],
      "execution_count": null,
      "outputs": []
    },
    {
      "cell_type": "code",
      "metadata": {
        "id": "qzczdIgiHLen"
      },
      "source": [
        "#from sklearn.preprocessing import LabelEncoder\n",
        "le = LabelEncoder()"
      ],
      "execution_count": null,
      "outputs": []
    },
    {
      "cell_type": "code",
      "metadata": {
        "id": "cN9aBdbhHLen"
      },
      "source": [
        "#df['Gender'] = le.fit_transform(df['Gender'])\n",
        "#df['Married'] = le.fit_transform(df['Married'])\n",
        "#df['Education'] = le.fit_transform(df['Education'])\n",
        "#df['Self_Employed'] = le.fit_transform(df['Self_Employed'])\n",
        "#df['Property_Area'] = le.fit_transform(df['Property_Area'])\n",
        "#df['Loan_Status'] = le.fit_transform(df['Loan_Status'])"
      ],
      "execution_count": null,
      "outputs": []
    },
    {
      "cell_type": "markdown",
      "metadata": {
        "id": "MqZi1vwzHLes"
      },
      "source": [
        "### Visualization"
      ]
    },
    {
      "cell_type": "code",
      "metadata": {
        "id": "PYynXD8kHLes",
        "colab": {
          "base_uri": "https://localhost:8080/"
        },
        "outputId": "a229d60b-d077-48bd-d4f4-b3ef5ebfd36a"
      },
      "source": [
        "df['Profession'].value_counts()"
      ],
      "execution_count": null,
      "outputs": [
        {
          "output_type": "execute_result",
          "data": {
            "text/plain": [
              "Student (Postgraduate)      44\n",
              "Professional                41\n",
              "Student (Undergraduate)     39\n",
              "Name: Profession, dtype: int64"
            ]
          },
          "metadata": {},
          "execution_count": 125
        }
      ]
    },
    {
      "cell_type": "markdown",
      "metadata": {
        "id": "VnrxukCiHLes"
      },
      "source": [
        "##### distribution between Numerical columns and Target column ( pairplot )"
      ]
    },
    {
      "cell_type": "code",
      "metadata": {
        "id": "9CXHNGmxHLet"
      },
      "source": [
        "#sns.pairplot(df[graph], hue=\"Loan_Status\", markers=[\"o\", \"s\"])"
      ],
      "execution_count": null,
      "outputs": []
    },
    {
      "cell_type": "markdown",
      "metadata": {
        "id": "Wc_EMqtHHLet"
      },
      "source": [
        "##### Visualization for Categorical Columns"
      ]
    },
    {
      "cell_type": "code",
      "metadata": {
        "id": "Cjw9kPEiHLet",
        "colab": {
          "base_uri": "https://localhost:8080/"
        },
        "outputId": "6cd4b932-17d8-4f63-da13-de3ac618ddac"
      },
      "source": [
        "df.columns"
      ],
      "execution_count": null,
      "outputs": [
        {
          "output_type": "execute_result",
          "data": {
            "text/plain": [
              "Index(['Sr.#', 'Name', 'Email', 'Profession', 'Local_Chapter',\n",
              "       'Are_you_already_familiar_with_following_concepts?', 'Time_Commitment',\n",
              "       'Motivation', 'Selection'],\n",
              "      dtype='object')"
            ]
          },
          "metadata": {},
          "execution_count": 129
        }
      ]
    },
    {
      "cell_type": "code",
      "metadata": {
        "id": "9zK1wJjTHLeu"
      },
      "source": [
        "#sns.countplot(x='Gender',data=df ,hue= 'Loan_Status')\n",
        "plt.show()"
      ],
      "execution_count": null,
      "outputs": []
    },
    {
      "cell_type": "code",
      "metadata": {
        "id": "a8MasixtHLeu"
      },
      "source": [
        "#sns.countplot(x='Married',data=df ,hue= 'Loan_Status')\n",
        "plt.show()"
      ],
      "execution_count": null,
      "outputs": []
    },
    {
      "cell_type": "code",
      "metadata": {
        "id": "E46kVmqXHLeu"
      },
      "source": [
        "#sns.countplot(x='Dependents',data=df ,hue= 'Loan_Status')\n",
        "plt.show()"
      ],
      "execution_count": null,
      "outputs": []
    },
    {
      "cell_type": "code",
      "metadata": {
        "id": "hYxYhBLiHLeu"
      },
      "source": [
        "#sns.countplot(x='Education',data=df ,hue= 'Loan_Status')\n",
        "#plt.show()"
      ],
      "execution_count": null,
      "outputs": []
    },
    {
      "cell_type": "code",
      "metadata": {
        "id": "FHS8FRy-HLev"
      },
      "source": [
        "#sns.countplot(x='Self_Employed',data=df ,hue= 'Loan_Status')\n",
        "#plt.show()"
      ],
      "execution_count": null,
      "outputs": []
    },
    {
      "cell_type": "code",
      "metadata": {
        "id": "fG4PellSHLev"
      },
      "source": [
        "#sns.countplot(x='Property_Area',data=df ,hue= 'Loan_Status')\n",
        "#plt.show()"
      ],
      "execution_count": null,
      "outputs": []
    },
    {
      "cell_type": "code",
      "metadata": {
        "id": "7hcJZbroHLev"
      },
      "source": [
        "#sns.countplot(x='Loan_Amount_Term',data=df ,hue= 'Loan_Status')\n",
        "#plt.show()"
      ],
      "execution_count": null,
      "outputs": []
    },
    {
      "cell_type": "code",
      "metadata": {
        "id": "lp-HAss4HLev"
      },
      "source": [
        "#sns.countplot(x='Credit_History',data=df ,hue= 'Loan_Status')\n",
        "#plt.show()"
      ],
      "execution_count": null,
      "outputs": []
    },
    {
      "cell_type": "code",
      "metadata": {
        "id": "cmnA0VAlHLew"
      },
      "source": [
        "#sns.countplot(x='Loan_Status',data=df)\n",
        "#plt.show()"
      ],
      "execution_count": null,
      "outputs": []
    },
    {
      "cell_type": "markdown",
      "metadata": {
        "id": "PfjRpsEjHLew"
      },
      "source": [
        "##### Visualization for Numerical Columns"
      ]
    },
    {
      "cell_type": "markdown",
      "metadata": {
        "id": "qP0ITVZFHLew"
      },
      "source": [
        "###### Time Commitment"
      ]
    },
    {
      "cell_type": "code",
      "metadata": {
        "id": "duExY3HnHLey"
      },
      "source": [
        "#sns.distplot(df['Time_commitment'], color = 'red')\n",
        "#plt.title('Time of Commintment')"
      ],
      "execution_count": null,
      "outputs": []
    },
    {
      "cell_type": "code",
      "metadata": {
        "id": "qrKDpsh0HLez",
        "colab": {
          "base_uri": "https://localhost:8080/"
        },
        "outputId": "3b5bc87c-0120-4c3f-bbe7-adecf9c26ae6"
      },
      "source": [
        "df['Profession'].head()"
      ],
      "execution_count": null,
      "outputs": [
        {
          "output_type": "execute_result",
          "data": {
            "text/plain": [
              "0     Student (Postgraduate) \n",
              "1     Student (Postgraduate) \n",
              "2    Student (Undergraduate) \n",
              "3                Professional\n",
              "4                Professional\n",
              "Name: Profession, dtype: object"
            ]
          },
          "metadata": {},
          "execution_count": 148
        }
      ]
    },
    {
      "cell_type": "code",
      "metadata": {
        "id": "xT5W7Jh0HLez",
        "colab": {
          "base_uri": "https://localhost:8080/",
          "height": 69
        },
        "outputId": "24b0cbf9-2c9c-434d-ce11-e680436acdec"
      },
      "source": [
        "df.loc[df['Sr.#'] >= 30000]"
      ],
      "execution_count": null,
      "outputs": [
        {
          "output_type": "execute_result",
          "data": {
            "text/html": [
              "<div>\n",
              "<style scoped>\n",
              "    .dataframe tbody tr th:only-of-type {\n",
              "        vertical-align: middle;\n",
              "    }\n",
              "\n",
              "    .dataframe tbody tr th {\n",
              "        vertical-align: top;\n",
              "    }\n",
              "\n",
              "    .dataframe thead th {\n",
              "        text-align: right;\n",
              "    }\n",
              "</style>\n",
              "<table border=\"1\" class=\"dataframe\">\n",
              "  <thead>\n",
              "    <tr style=\"text-align: right;\">\n",
              "      <th></th>\n",
              "      <th>Sr.#</th>\n",
              "      <th>Name</th>\n",
              "      <th>Email</th>\n",
              "      <th>Profession</th>\n",
              "      <th>Local_Chapter</th>\n",
              "      <th>Are_you_already_familiar_with_following_concepts?</th>\n",
              "      <th>Time_Commitment</th>\n",
              "      <th>Motivation</th>\n",
              "      <th>Selection</th>\n",
              "    </tr>\n",
              "  </thead>\n",
              "  <tbody>\n",
              "  </tbody>\n",
              "</table>\n",
              "</div>"
            ],
            "text/plain": [
              "Empty DataFrame\n",
              "Columns: [Sr.#, Name, Email, Profession, Local_Chapter, Are_you_already_familiar_with_following_concepts?, Time_Commitment, Motivation, Selection]\n",
              "Index: []"
            ]
          },
          "metadata": {},
          "execution_count": 150
        }
      ]
    },
    {
      "cell_type": "code",
      "metadata": {
        "id": "XwVWmF50HLez"
      },
      "source": [
        "df = df.loc[df['Applicant_Income'] <= 30000]"
      ],
      "execution_count": null,
      "outputs": []
    },
    {
      "cell_type": "code",
      "metadata": {
        "id": "WUCGwDEEHLez",
        "colab": {
          "base_uri": "https://localhost:8080/",
          "height": 313
        },
        "outputId": "4f2b5242-a330-4f55-d1eb-d10230b634a6"
      },
      "source": [
        "sns.distplot(df['Sr.#'], color = 'red')\n",
        "plt.title('Sr.#')"
      ],
      "execution_count": null,
      "outputs": [
        {
          "output_type": "execute_result",
          "data": {
            "text/plain": [
              "Text(0.5, 1.0, 'Sr.#')"
            ]
          },
          "metadata": {},
          "execution_count": 152
        },
        {
          "output_type": "display_data",
          "data": {
            "image/png": "[encoded data removed]",
            "text/plain": [
              "<Figure size 432x288 with 1 Axes>"
            ]
          },
          "metadata": {
            "needs_background": "light"
          }
        }
      ]
    },
    {
      "cell_type": "markdown",
      "metadata": {
        "id": "pOKoa1p-HLe0"
      },
      "source": [
        "###### Selection Criteria"
      ]
    },
    {
      "cell_type": "code",
      "metadata": {
        "id": "HK1DPCHrHLe0",
        "colab": {
          "base_uri": "https://localhost:8080/",
          "height": 132
        },
        "outputId": "492d073d-85f8-4f64-feea-6522dc565c90"
      },
      "source": [
        "\"\"sns.distplot(df['Selection'], color = 'orange')\n",
        "plt.title('Selection')"
      ],
      "execution_count": null,
      "outputs": [
        {
          "output_type": "error",
          "ename": "SyntaxError",
          "evalue": "ignored",
          "traceback": [
            "\u001b[0;36m  File \u001b[0;32m\"<ipython-input-153-cfc303bcbc29>\"\u001b[0;36m, line \u001b[0;32m1\u001b[0m\n\u001b[0;31m    \"\"sns.distplot(df['Selection'], color = 'orange')\u001b[0m\n\u001b[0m        ^\u001b[0m\n\u001b[0;31mSyntaxError\u001b[0m\u001b[0;31m:\u001b[0m invalid syntax\n"
          ]
        }
      ]
    },
    {
      "cell_type": "code",
      "metadata": {
        "id": "UX4LId4cHLe1"
      },
      "source": [
        "df.loc[df['CoapplicantIncome'] >= 10000]"
      ],
      "execution_count": null,
      "outputs": []
    },
    {
      "cell_type": "code",
      "metadata": {
        "id": "d9qH8CUqHLe1"
      },
      "source": [
        "df = df.loc[df['CoapplicantIncome'] <= 10000]"
      ],
      "execution_count": null,
      "outputs": []
    },
    {
      "cell_type": "code",
      "metadata": {
        "id": "ZrGdmdJjHLe1"
      },
      "source": [
        "sns.distplot(df['CoapplicantIncome'], color = 'orange')\n",
        "plt.title('Coapplicant Income')"
      ],
      "execution_count": null,
      "outputs": []
    },
    {
      "cell_type": "code",
      "metadata": {
        "id": "c7Me1iZgHLe1"
      },
      "source": [
        ""
      ],
      "execution_count": null,
      "outputs": []
    },
    {
      "cell_type": "markdown",
      "metadata": {
        "id": "vB3ZFopBHLe1"
      },
      "source": [
        "###### LoanAmount"
      ]
    },
    {
      "cell_type": "code",
      "metadata": {
        "id": "oFAJBHyiHLe2"
      },
      "source": [
        "sns.distplot(df['LoanAmount'], color = 'blue')\n",
        "plt.title('Loan Amount')"
      ],
      "execution_count": null,
      "outputs": []
    },
    {
      "cell_type": "code",
      "metadata": {
        "id": "1SxfOlOMHLe2"
      },
      "source": [
        "df.loc[df['LoanAmount'] >= 500]"
      ],
      "execution_count": null,
      "outputs": []
    },
    {
      "cell_type": "code",
      "metadata": {
        "id": "wSzp6IS8HLe2"
      },
      "source": [
        "df = df.loc[df['LoanAmount'] <= 500]"
      ],
      "execution_count": null,
      "outputs": []
    },
    {
      "cell_type": "code",
      "metadata": {
        "id": "IjQ4QvIIHLe2"
      },
      "source": [
        "sns.distplot(df['LoanAmount'], color = 'blue')\n",
        "plt.title('Loan Amount')"
      ],
      "execution_count": null,
      "outputs": []
    },
    {
      "cell_type": "code",
      "metadata": {
        "id": "0YNiebJdHLe3"
      },
      "source": [
        ""
      ],
      "execution_count": null,
      "outputs": []
    },
    {
      "cell_type": "markdown",
      "metadata": {
        "id": "fq_PpJUWHLe3"
      },
      "source": [
        "### Feature Scaling for Machine Learning in feature Engineering"
      ]
    },
    {
      "cell_type": "markdown",
      "metadata": {
        "id": "4pccTQkqHLe3"
      },
      "source": [
        "https://www.youtube.com/watch?v=mnKm3YP56PY&t=331s"
      ]
    },
    {
      "cell_type": "markdown",
      "metadata": {
        "id": "Ye9xV5nzHLe3"
      },
      "source": [
        "https://www.analyticsvidhya.com/blog/2020/04/feature-scaling-machine-learning-normalization-standardization/"
      ]
    },
    {
      "cell_type": "markdown",
      "metadata": {
        "id": "AngDIUQKHLe4"
      },
      "source": [
        "###### Normalization & Standarization"
      ]
    },
    {
      "cell_type": "markdown",
      "metadata": {
        "id": "BPnKP0liHLe4"
      },
      "source": [
        "This is a significant obstacle as a few machine learning algorithms are highly sensitive to these features.\n",
        "For example, one feature is entirely in kilograms while the other is in grams, another one is liters, and so on. How can we use these features when they vary so vastly in terms of what they’re presenting?\n"
      ]
    },
    {
      "cell_type": "markdown",
      "metadata": {
        "id": "418b2uFFHLe4"
      },
      "source": [
        "##### Normalization:\n",
        "\n",
        "helps you to scal down your feature's value between 0 and 1"
      ]
    },
    {
      "cell_type": "markdown",
      "metadata": {
        "id": "lZcwTUuuHLe4"
      },
      "source": [
        "![1*GwcC80mDUyscDAWtwZSBdA.png](attachment:1*GwcC80mDUyscDAWtwZSBdA.png)"
      ]
    },
    {
      "cell_type": "code",
      "metadata": {
        "id": "FOPTFKw5HLe5"
      },
      "source": [
        "ds = df.copy()"
      ],
      "execution_count": null,
      "outputs": []
    },
    {
      "cell_type": "code",
      "metadata": {
        "id": "teGGUFYUHLe5"
      },
      "source": [
        "#from sklearn.preprocessing import MinMaxScaler\n",
        "\n",
        "#scaling = MinMaxScaler()\n",
        "#scaling.fit_transform(df[[ '' , '' ]])"
      ],
      "execution_count": null,
      "outputs": []
    },
    {
      "cell_type": "code",
      "metadata": {
        "id": "jn_lMb3UHLe5"
      },
      "source": [
        "df.head()"
      ],
      "execution_count": null,
      "outputs": []
    },
    {
      "cell_type": "code",
      "metadata": {
        "id": "MN0RL-tcHLe6"
      },
      "source": [
        "cols_to_norm = ['Applicant_Income' , 'CoapplicantIncome' , 'LoanAmount' , 'Loan_Amount_Term' ]"
      ],
      "execution_count": null,
      "outputs": []
    },
    {
      "cell_type": "code",
      "metadata": {
        "id": "ra8PDisNHLe6"
      },
      "source": [
        "df[['CoapplicantIncome' , 'CoapplicantIncome' , 'LoanAmount']].head()"
      ],
      "execution_count": null,
      "outputs": []
    },
    {
      "cell_type": "code",
      "metadata": {
        "id": "2TRckR5IHLe6"
      },
      "source": [
        "df[cols_to_norm] = df[cols_to_norm].apply(lambda x: (x - x.min()) / (x.max() - x.min()))"
      ],
      "execution_count": null,
      "outputs": []
    },
    {
      "cell_type": "code",
      "metadata": {
        "id": "ZSOgihdJHLe7"
      },
      "source": [
        "df[['Applicant_Income' , 'CoapplicantIncome' , 'LoanAmount' , 'Loan_Amount_Term']].head()"
      ],
      "execution_count": null,
      "outputs": []
    },
    {
      "cell_type": "code",
      "metadata": {
        "id": "WfP33mOMHLe7"
      },
      "source": [
        "ds[['Applicant_Income' , 'CoapplicantIncome' , 'LoanAmount' , 'Loan_Amount_Term']].head()"
      ],
      "execution_count": null,
      "outputs": []
    },
    {
      "cell_type": "markdown",
      "metadata": {
        "id": "eQBI1gYBHLe7"
      },
      "source": [
        "##### Standarization: \n",
        "\n",
        "helps you to scal down your feature based on standard Normal Distribution (the mean is usually 0 and standard deviation is usually 1)"
      ]
    },
    {
      "cell_type": "markdown",
      "metadata": {
        "id": "ZxDLIltzHLe7"
      },
      "source": [
        "![How-to-normalize-data-in-Excel-011.png](attachment:How-to-normalize-data-in-Excel-011.png)"
      ]
    },
    {
      "cell_type": "code",
      "metadata": {
        "id": "LXSu58l2HLe7"
      },
      "source": [
        "from sklearn.preprocessing import StandardScaler"
      ],
      "execution_count": null,
      "outputs": []
    },
    {
      "cell_type": "code",
      "metadata": {
        "id": "n2IB34VQHLe8"
      },
      "source": [
        "ds[['Applicant_Income' , 'CoapplicantIncome' , 'LoanAmount' , 'Loan_Amount_Term']] = StandardScaler().fit_transform(ds[['Applicant_Income' , 'CoapplicantIncome' , 'LoanAmount' , 'Loan_Amount_Term']])"
      ],
      "execution_count": null,
      "outputs": []
    },
    {
      "cell_type": "code",
      "metadata": {
        "id": "Fg7GSKd4HLe8"
      },
      "source": [
        "ds[['Applicant_Income' , 'CoapplicantIncome' , 'LoanAmount' , 'Loan_Amount_Term']].head()"
      ],
      "execution_count": null,
      "outputs": []
    },
    {
      "cell_type": "code",
      "metadata": {
        "id": "MDto1ryDHLe8"
      },
      "source": [
        "df.columns"
      ],
      "execution_count": null,
      "outputs": []
    },
    {
      "cell_type": "markdown",
      "metadata": {
        "id": "680Dr6u9HLe8"
      },
      "source": [
        "### Feature Selection & Elimination"
      ]
    },
    {
      "cell_type": "markdown",
      "metadata": {
        "id": "OFbkPMmYHLe9"
      },
      "source": [
        "#### PCA"
      ]
    },
    {
      "cell_type": "code",
      "metadata": {
        "colab": {
          "base_uri": "https://localhost:8080/"
        },
        "id": "6OUJgbh7HLe9",
        "outputId": "646b317e-c765-494c-89df-e2ebe2eae67d"
      },
      "source": [
        "df.columns"
      ],
      "execution_count": null,
      "outputs": [
        {
          "output_type": "execute_result",
          "data": {
            "text/plain": [
              "Index(['Sr.#', 'Name', 'Email', 'Profession', 'Local_Chapter',\n",
              "       'Are_you_already_familiar_with_following_concepts?', 'Time_Commitment',\n",
              "       'Motivation', 'Selection'],\n",
              "      dtype='object')"
            ]
          },
          "metadata": {},
          "execution_count": 154
        }
      ]
    },
    {
      "cell_type": "code",
      "metadata": {
        "id": "Se3lXBTvHLe9"
      },
      "source": [
        "features = ['Sr.#', 'Name', 'Email', 'Profession', 'Local_Chapter',\n",
        "       'Are_you_already_familiar_with_following_concepts?', 'Time_Commitment',\n",
        "       'Motivation', 'Selection']"
      ],
      "execution_count": null,
      "outputs": []
    },
    {
      "cell_type": "code",
      "metadata": {
        "colab": {
          "base_uri": "https://localhost:8080/"
        },
        "id": "uMdksaYaS676",
        "outputId": "ce6958c9-6024-46d4-893e-a715a103adf9"
      },
      "source": [
        "df.columns"
      ],
      "execution_count": null,
      "outputs": [
        {
          "output_type": "execute_result",
          "data": {
            "text/plain": [
              "Index(['Sr.#', 'Name', 'Email', 'Profession', 'Local_Chapter',\n",
              "       'Are_you_already_familiar_with_following_concepts?', 'Time_Commitment',\n",
              "       'Motivation', 'Selection'],\n",
              "      dtype='object')"
            ]
          },
          "metadata": {},
          "execution_count": 162
        }
      ]
    },
    {
      "cell_type": "code",
      "metadata": {
        "id": "cbCZXr-qHLe9"
      },
      "source": [
        "# Separating out the features\n",
        "x = df.loc[:, features].values\n",
        "# Separating out the target\n",
        "y = df.loc[:,['Motivation']].values"
      ],
      "execution_count": null,
      "outputs": []
    },
    {
      "cell_type": "code",
      "metadata": {
        "id": "BGk-wjCEHLe-"
      },
      "source": [
        "#from sklearn.decomposition import PCA\n",
        "#pca = PCA(n_components=4)\n",
        "#principalComponents = pca.fit_transform(x)\n",
        "#principalDf = pd.DataFrame(data = principalComponents\n",
        "            # , columns = ['principal component 1', 'principal component 2' , 'principal component 3' , 'principal component 4'])"
      ],
      "execution_count": null,
      "outputs": []
    },
    {
      "cell_type": "code",
      "metadata": {
        "id": "zuSIki5GHLe-"
      },
      "source": [
        "#principalDf.head()"
      ],
      "execution_count": null,
      "outputs": []
    },
    {
      "cell_type": "code",
      "metadata": {
        "id": "hSvXDwiTHLe-"
      },
      "source": [
        "#finalDf = pd.concat([principalDf, df[['Loan_Status']]], axis = 1)"
      ],
      "execution_count": null,
      "outputs": []
    },
    {
      "cell_type": "code",
      "metadata": {
        "id": "mXlHfJVbHLe-"
      },
      "source": [
        "#finalDf.head()"
      ],
      "execution_count": null,
      "outputs": []
    },
    {
      "cell_type": "markdown",
      "metadata": {
        "id": "FkwgTpLXHLe_"
      },
      "source": [
        "#### Univariant Selection"
      ]
    },
    {
      "cell_type": "code",
      "metadata": {
        "id": "w5aHOP3WHLe_"
      },
      "source": [
        "#X_uni = df.drop(columns=['Loan_Status'] , axis=1 )\n",
        "#y_uni = df['Loan_Status']"
      ],
      "execution_count": null,
      "outputs": []
    },
    {
      "cell_type": "code",
      "metadata": {
        "id": "tE6P3WG-HLe_",
        "colab": {
          "base_uri": "https://localhost:8080/"
        },
        "outputId": "4e15245a-3e2c-4703-9f7a-efdaa950f28c"
      },
      "source": [
        "df.shape"
      ],
      "execution_count": null,
      "outputs": [
        {
          "output_type": "execute_result",
          "data": {
            "text/plain": [
              "(124, 9)"
            ]
          },
          "metadata": {},
          "execution_count": 179
        }
      ]
    },
    {
      "cell_type": "code",
      "metadata": {
        "id": "49mhhTUzHLfA"
      },
      "source": [
        "## Apply SelectBest Algorithm\n",
        "#from sklearn.feature_selection import SelectKBest\n",
        "#from sklearn.feature_selection import chi2\n",
        "\n",
        "#order_applied_feature = SelectKBest(score_func=chi2 , k=11)\n",
        "#order_features = order_applied_feature.fit(X_uni,y_uni)"
      ],
      "execution_count": null,
      "outputs": []
    },
    {
      "cell_type": "code",
      "metadata": {
        "id": "A0PTBTbXHLfA"
      },
      "source": [
        "#order_features"
      ],
      "execution_count": null,
      "outputs": []
    },
    {
      "cell_type": "code",
      "metadata": {
        "id": "PqqieD3rHLfA"
      },
      "source": [
        "#order_features.scores_"
      ],
      "execution_count": null,
      "outputs": []
    },
    {
      "cell_type": "code",
      "metadata": {
        "id": "GLMxlz7VHLfA"
      },
      "source": [
        "#df_scores = pd.DataFrame(order_features.scores_,columns=['Score'])\n",
        "#df_columns = pd.DataFrame(X_uni.columns)"
      ],
      "execution_count": null,
      "outputs": []
    },
    {
      "cell_type": "code",
      "metadata": {
        "id": "trb2_wxXHLfB"
      },
      "source": [
        "#feature_Rank = pd.concat([df_columns , df_scores] , axis=1)"
      ],
      "execution_count": null,
      "outputs": []
    },
    {
      "cell_type": "code",
      "metadata": {
        "id": "ql_2A_PgHLfB"
      },
      "source": [
        "#feature_Rank.columns=['Features' , 'Scores']"
      ],
      "execution_count": null,
      "outputs": []
    },
    {
      "cell_type": "code",
      "metadata": {
        "id": "BbfkZdD_HLfB"
      },
      "source": [
        "#feature_Rank"
      ],
      "execution_count": null,
      "outputs": []
    },
    {
      "cell_type": "code",
      "metadata": {
        "id": "cCTcA2wFHLfC"
      },
      "source": [
        "## to give me the top 10\n",
        "#feature_Rank.nlargest(10 , 'Scores')"
      ],
      "execution_count": null,
      "outputs": []
    },
    {
      "cell_type": "code",
      "metadata": {
        "id": "30VGfHLpHLfC"
      },
      "source": [
        ""
      ],
      "execution_count": null,
      "outputs": []
    },
    {
      "cell_type": "markdown",
      "metadata": {
        "id": "jAblCnGeHLfC"
      },
      "source": [
        "#### Correlation"
      ]
    },
    {
      "cell_type": "code",
      "metadata": {
        "id": "Oom7IvZMHLfD",
        "colab": {
          "base_uri": "https://localhost:8080/",
          "height": 110
        },
        "outputId": "8e4a34b5-9be2-45da-ecc8-15df83b25fbb"
      },
      "source": [
        "df.corr()"
      ],
      "execution_count": null,
      "outputs": [
        {
          "output_type": "execute_result",
          "data": {
            "text/html": [
              "<div>\n",
              "<style scoped>\n",
              "    .dataframe tbody tr th:only-of-type {\n",
              "        vertical-align: middle;\n",
              "    }\n",
              "\n",
              "    .dataframe tbody tr th {\n",
              "        vertical-align: top;\n",
              "    }\n",
              "\n",
              "    .dataframe thead th {\n",
              "        text-align: right;\n",
              "    }\n",
              "</style>\n",
              "<table border=\"1\" class=\"dataframe\">\n",
              "  <thead>\n",
              "    <tr style=\"text-align: right;\">\n",
              "      <th></th>\n",
              "      <th>Sr.#</th>\n",
              "      <th>Selection</th>\n",
              "    </tr>\n",
              "  </thead>\n",
              "  <tbody>\n",
              "    <tr>\n",
              "      <th>Sr.#</th>\n",
              "      <td>1.0</td>\n",
              "      <td>NaN</td>\n",
              "    </tr>\n",
              "    <tr>\n",
              "      <th>Selection</th>\n",
              "      <td>NaN</td>\n",
              "      <td>NaN</td>\n",
              "    </tr>\n",
              "  </tbody>\n",
              "</table>\n",
              "</div>"
            ],
            "text/plain": [
              "           Sr.#  Selection\n",
              "Sr.#        1.0        NaN\n",
              "Selection   NaN        NaN"
            ]
          },
          "metadata": {},
          "execution_count": 194
        }
      ]
    },
    {
      "cell_type": "code",
      "metadata": {
        "id": "h4RLQMM2HLfD",
        "colab": {
          "base_uri": "https://localhost:8080/",
          "height": 749
        },
        "outputId": "eefc629c-1d9a-43dd-cfcf-690b32397bed"
      },
      "source": [
        "corr = df.corr()\n",
        "top_features = corr.index\n",
        "plt.figure(figsize=(40,40))\n",
        "sns.heatmap(df[top_features].corr(),annot=True)"
      ],
      "execution_count": null,
      "outputs": [
        {
          "output_type": "execute_result",
          "data": {
            "text/plain": [
              "<matplotlib.axes._subplots.AxesSubplot at 0x7f83a2acef50>"
            ]
          },
          "metadata": {},
          "execution_count": 195
        },
        {
          "output_type": "display_data",
          "data": {
            "image/png": "[encoded data removed]",
            "text/plain": [
              "<Figure size 2880x2880 with 2 Axes>"
            ]
          },
          "metadata": {
            "needs_background": "light"
          }
        }
      ]
    },
    {
      "cell_type": "code",
      "metadata": {
        "id": "BIb20c_yHLfD"
      },
      "source": [
        "### threshold = 0.2\n",
        "\n",
        "threshold = 0.0"
      ],
      "execution_count": null,
      "outputs": []
    },
    {
      "cell_type": "code",
      "metadata": {
        "id": "aGIT7_kFHLfE"
      },
      "source": [
        "#to remove if the correlation greater than 0.8\n",
        "def correlation (dataset ,  threshold):\n",
        "    col_corr         = set()\n",
        "    corr_matrix      = dataset.corr()\n",
        "    for i in range(len(corr_matrix.columns)):\n",
        "        for j in range(i):\n",
        "            if abs(corr_matrix.iloc[i , j]) > threshold:\n",
        "                colname  = corr_matrix.columns[i]\n",
        "                col_corr.add(colname)\n",
        "            \n",
        "    return col_corr"
      ],
      "execution_count": null,
      "outputs": []
    },
    {
      "cell_type": "code",
      "metadata": {
        "id": "8wiuOM8tHLfE",
        "colab": {
          "base_uri": "https://localhost:8080/"
        },
        "outputId": "50df6403-b3fe-4ea4-f4c3-1936bb48c638"
      },
      "source": [
        "correlation(df.iloc[:,:-1],threshold)"
      ],
      "execution_count": null,
      "outputs": [
        {
          "output_type": "execute_result",
          "data": {
            "text/plain": [
              "set()"
            ]
          },
          "metadata": {},
          "execution_count": 198
        }
      ]
    },
    {
      "cell_type": "code",
      "metadata": {
        "id": "MZ2GhArfHLfE"
      },
      "source": [
        ""
      ],
      "execution_count": null,
      "outputs": []
    },
    {
      "cell_type": "markdown",
      "metadata": {
        "id": "dqqSLrqIHLfF"
      },
      "source": [
        "#### information gain algorithm"
      ]
    },
    {
      "cell_type": "code",
      "metadata": {
        "id": "chiC3y8mHLfF"
      },
      "source": [
        "from sklearn.feature_selection import mutual_info_classif"
      ],
      "execution_count": null,
      "outputs": []
    },
    {
      "cell_type": "code",
      "metadata": {
        "id": "79iv1mWxHLfF"
      },
      "source": [
        "X = df.drop(columns=['Sr.#'] , axis=1 )\n",
        "y = df['Selection']"
      ],
      "execution_count": null,
      "outputs": []
    },
    {
      "cell_type": "code",
      "metadata": {
        "id": "oTbwf72HHLfF"
      },
      "source": [
        "#mutual_info = mutual_info_classif(X,y)"
      ],
      "execution_count": null,
      "outputs": []
    },
    {
      "cell_type": "code",
      "metadata": {
        "id": "iHMIWVLpHLfF"
      },
      "source": [
        "#mutual_data = pd.Series(mutual_info , index = X.columns)\n",
        "#mutual_data.sort_values(ascending = False)"
      ],
      "execution_count": null,
      "outputs": []
    },
    {
      "cell_type": "markdown",
      "metadata": {
        "id": "WwfXxapkHLfH"
      },
      "source": [
        "### Handling imbalanced dataset"
      ]
    },
    {
      "cell_type": "markdown",
      "metadata": {
        "id": "PeP3kg35HLfH"
      },
      "source": [
        "##### Link for     ( Learning from Imbalanced Data Sets! )     Book\n",
        "\n",
        "https://www.linkedin.com/feed/update/urn:li:activity:6739451149843222528/"
      ]
    },
    {
      "cell_type": "markdown",
      "metadata": {
        "id": "idpBWszZHLfI"
      },
      "source": [
        "imbalanced data sets are a special case for classification problem where the class distribution is not uniform among the classes. Typically, they are composed by two classes: The majority (negative) class and the minority (positive) class"
      ]
    },
    {
      "cell_type": "markdown",
      "metadata": {
        "id": "OAxt0rFyHLfI"
      },
      "source": [
        "#### Accuracy Fails for Imbalanced Classification\n",
        "\n",
        "\n",
        "When the skew in the class distributions are severe, accuracy can become an unreliable measure of model performance.\n",
        "becuase it can easy biased to one of the two classes and predict with high accuracy result but without feel that dataset containg another class ! called minority class and it contain small number"
      ]
    },
    {
      "cell_type": "markdown",
      "metadata": {
        "id": "Y-Ev0-cTHLfI"
      },
      "source": [
        "![1*cd6AorHoJYMFyj7IZd2nOg.png](attachment:1*cd6AorHoJYMFyj7IZd2nOg.png)"
      ]
    },
    {
      "cell_type": "markdown",
      "metadata": {
        "id": "zvr2R4O0HLfI"
      },
      "source": [
        "![Screen%20Shot%202021-07-10%20at%202.18.21%20AM.png](attachment:Screen%20Shot%202021-07-10%20at%202.18.21%20AM.png)"
      ]
    },
    {
      "cell_type": "code",
      "metadata": {
        "id": "bsL_wCnfHLfI"
      },
      "source": [
        "#df['Loan_Status'].value_counts()"
      ],
      "execution_count": null,
      "outputs": []
    },
    {
      "cell_type": "markdown",
      "metadata": {
        "id": "rBEBs9mjHLfJ"
      },
      "source": [
        "##### Random Undersampling and Oversampling"
      ]
    },
    {
      "cell_type": "markdown",
      "metadata": {
        "id": "EuX72kwmHLfJ"
      },
      "source": [
        "![Screen%20Shot%202021-07-10%20at%202.00.17%20AM.png](attachment:Screen%20Shot%202021-07-10%20at%202.00.17%20AM.png)"
      ]
    },
    {
      "cell_type": "markdown",
      "metadata": {
        "id": "D40yJKIAHLfJ"
      },
      "source": [
        "---"
      ]
    },
    {
      "cell_type": "markdown",
      "metadata": {
        "id": "AqzuvWWlHLfJ"
      },
      "source": [
        "##### Class weights in the models"
      ]
    },
    {
      "cell_type": "markdown",
      "metadata": {
        "id": "L_ipSYURHLfJ"
      },
      "source": [
        "https://www.kdnuggets.com/2020/01/5-most-useful-techniques-handle-imbalanced-datasets.html"
      ]
    },
    {
      "cell_type": "markdown",
      "metadata": {
        "id": "NZOIC4UhHLfJ"
      },
      "source": [
        "![Screen%20Shot%202021-07-10%20at%202.27.49%20AM.png](attachment:Screen%20Shot%202021-07-10%20at%202.27.49%20AM.png)"
      ]
    },
    {
      "cell_type": "markdown",
      "metadata": {
        "id": "_cnVtbXKHLfK"
      },
      "source": [
        "#####  Oversampling using SMOTE:"
      ]
    },
    {
      "cell_type": "markdown",
      "metadata": {
        "id": "mgSa2GwBHLfK"
      },
      "source": [
        "SMOTE : Synthetic Minority Oversampling Technique"
      ]
    },
    {
      "cell_type": "markdown",
      "metadata": {
        "id": "vOWWRSQuHLfK"
      },
      "source": [
        "https://www.youtube.com/watch?v=dkXB8HH_4-k&t=499s"
      ]
    },
    {
      "cell_type": "markdown",
      "metadata": {
        "id": "IXbmIzYiHLfK"
      },
      "source": [
        "![Screen%20Shot%202021-07-10%20at%202.01.33%20AM.png](attachment:Screen%20Shot%202021-07-10%20at%202.01.33%20AM.png)"
      ]
    },
    {
      "cell_type": "code",
      "metadata": {
        "id": "mMOZcGwYHLfL",
        "colab": {
          "base_uri": "https://localhost:8080/"
        },
        "outputId": "0da7ff57-62e4-4fd0-8443-1414c25112e0"
      },
      "source": [
        "df.columns"
      ],
      "execution_count": null,
      "outputs": [
        {
          "output_type": "execute_result",
          "data": {
            "text/plain": [
              "Index(['Sr.#', 'Name', 'Email', 'Profession', 'Local_Chapter',\n",
              "       'Are_you_already_familiar_with_following_concepts?', 'Time_Commitment',\n",
              "       'Motivation', 'Selection'],\n",
              "      dtype='object')"
            ]
          },
          "metadata": {},
          "execution_count": 215
        }
      ]
    },
    {
      "cell_type": "code",
      "metadata": {
        "id": "pICzRJRjHLfL"
      },
      "source": [
        ""
      ],
      "execution_count": null,
      "outputs": []
    },
    {
      "cell_type": "code",
      "metadata": {
        "id": "CUwOZvb-HLfL"
      },
      "source": [
        "from collections import Counter\n",
        "from sklearn.datasets import make_classification\n",
        "from imblearn.over_sampling import SMOTE\n",
        "from matplotlib import pyplot\n",
        "from numpy import where\n",
        "\n",
        "# use our preprocesses dataset\n",
        "#X = df.drop('Loan_Status', axis=1)\n",
        "#y = df['Loan_Status']\n",
        "\n",
        "\n",
        "# summarize class distribution\n",
        "#counter = Counter(y)\n",
        "#print(counter)\n",
        "\n",
        "\n",
        "# transform the dataset\n",
        "#oversample = SMOTE()\n",
        "#X, y = oversample.fit_resample(X, y)\n",
        "\n",
        "\n",
        "# summarize the new class distribution\n",
        "#counter = Counter(y)\n",
        "#print(counter)"
      ],
      "execution_count": null,
      "outputs": []
    },
    {
      "cell_type": "code",
      "metadata": {
        "id": "w1Ur4bx3HLfM",
        "colab": {
          "base_uri": "https://localhost:8080/"
        },
        "outputId": "0082593b-55e1-4200-b5c6-a96dae1cd41b"
      },
      "source": [
        "X.shape"
      ],
      "execution_count": null,
      "outputs": [
        {
          "output_type": "execute_result",
          "data": {
            "text/plain": [
              "(124, 8)"
            ]
          },
          "metadata": {},
          "execution_count": 219
        }
      ]
    },
    {
      "cell_type": "code",
      "metadata": {
        "id": "rdyPytA8HLfM",
        "colab": {
          "base_uri": "https://localhost:8080/"
        },
        "outputId": "f2e10b32-e549-439f-f666-c828da2429cf"
      },
      "source": [
        "y.shape"
      ],
      "execution_count": null,
      "outputs": [
        {
          "output_type": "execute_result",
          "data": {
            "text/plain": [
              "(124,)"
            ]
          },
          "metadata": {},
          "execution_count": 220
        }
      ]
    },
    {
      "cell_type": "code",
      "metadata": {
        "id": "b9-fxK-nHLfM"
      },
      "source": [
        "df_New = pd.concat([X, y], axis=1)"
      ],
      "execution_count": null,
      "outputs": []
    },
    {
      "cell_type": "code",
      "metadata": {
        "id": "hvg5l20hHLfM",
        "colab": {
          "base_uri": "https://localhost:8080/"
        },
        "outputId": "6720a0ba-bb5a-408b-d3fa-c3e8314c656f"
      },
      "source": [
        "df_New.shape"
      ],
      "execution_count": null,
      "outputs": [
        {
          "output_type": "execute_result",
          "data": {
            "text/plain": [
              "(124, 9)"
            ]
          },
          "metadata": {},
          "execution_count": 222
        }
      ]
    },
    {
      "cell_type": "code",
      "metadata": {
        "id": "u6NN_l_gHLfM",
        "colab": {
          "base_uri": "https://localhost:8080/",
          "height": 492
        },
        "outputId": "e30f8376-6620-4ecc-fdd2-0e4629fa9898"
      },
      "source": [
        "df_New.head()"
      ],
      "execution_count": null,
      "outputs": [
        {
          "output_type": "execute_result",
          "data": {
            "text/html": [
              "<div>\n",
              "<style scoped>\n",
              "    .dataframe tbody tr th:only-of-type {\n",
              "        vertical-align: middle;\n",
              "    }\n",
              "\n",
              "    .dataframe tbody tr th {\n",
              "        vertical-align: top;\n",
              "    }\n",
              "\n",
              "    .dataframe thead th {\n",
              "        text-align: right;\n",
              "    }\n",
              "</style>\n",
              "<table border=\"1\" class=\"dataframe\">\n",
              "  <thead>\n",
              "    <tr style=\"text-align: right;\">\n",
              "      <th></th>\n",
              "      <th>Name</th>\n",
              "      <th>Email</th>\n",
              "      <th>Profession</th>\n",
              "      <th>Local_Chapter</th>\n",
              "      <th>Are_you_already_familiar_with_following_concepts?</th>\n",
              "      <th>Time_Commitment</th>\n",
              "      <th>Motivation</th>\n",
              "      <th>Selection</th>\n",
              "      <th>Selection</th>\n",
              "    </tr>\n",
              "  </thead>\n",
              "  <tbody>\n",
              "    <tr>\n",
              "      <th>0</th>\n",
              "      <td>Manish tiwari</td>\n",
              "      <td>Manisht98@gmail.com</td>\n",
              "      <td>Student (Postgraduate)</td>\n",
              "      <td>Indian</td>\n",
              "      <td>Agricultural Sciences,Basic Python,Basic Mathe...</td>\n",
              "      <td>3</td>\n",
              "      <td>Increase my knowledge with real world project ...</td>\n",
              "      <td>NaN</td>\n",
              "      <td>NaN</td>\n",
              "    </tr>\n",
              "    <tr>\n",
              "      <th>1</th>\n",
              "      <td>Mohsen Selseleh</td>\n",
              "      <td>mohsen.selseleh@yahoo.com</td>\n",
              "      <td>Student (Postgraduate)</td>\n",
              "      <td>Netherland</td>\n",
              "      <td>Basic Python,Basic Mathematics,Data Analysis.</td>\n",
              "      <td>10</td>\n",
              "      <td>to learn more</td>\n",
              "      <td>NaN</td>\n",
              "      <td>NaN</td>\n",
              "    </tr>\n",
              "    <tr>\n",
              "      <th>2</th>\n",
              "      <td>Sivasankar Vennala</td>\n",
              "      <td>sivasankar.vennala@gmail.co</td>\n",
              "      <td>Student (Undergraduate)</td>\n",
              "      <td>Netherland</td>\n",
              "      <td>Basic Python,Basic Mathematics,Data Analysis.</td>\n",
              "      <td>3</td>\n",
              "      <td>As a student I would like to get more hands le...</td>\n",
              "      <td>NaN</td>\n",
              "      <td>NaN</td>\n",
              "    </tr>\n",
              "    <tr>\n",
              "      <th>3</th>\n",
              "      <td>Anvesh Mishra</td>\n",
              "      <td>Anvesh87@gmail.com</td>\n",
              "      <td>Professional</td>\n",
              "      <td>None</td>\n",
              "      <td>Basic Python,Basic Mathematics,Data Analysis.</td>\n",
              "      <td>1</td>\n",
              "      <td>In mid of career transit, this course would he...</td>\n",
              "      <td>NaN</td>\n",
              "      <td>NaN</td>\n",
              "    </tr>\n",
              "    <tr>\n",
              "      <th>4</th>\n",
              "      <td>Edwin M'maitsi Mwale</td>\n",
              "      <td>edukoo@gmail.com</td>\n",
              "      <td>Professional</td>\n",
              "      <td>Nairobi</td>\n",
              "      <td>Basic Python,Basic Mathematics,Data Analysis.,...</td>\n",
              "      <td>4</td>\n",
              "      <td>I am a farmer and I want to create solutions f...</td>\n",
              "      <td>NaN</td>\n",
              "      <td>NaN</td>\n",
              "    </tr>\n",
              "  </tbody>\n",
              "</table>\n",
              "</div>"
            ],
            "text/plain": [
              "                   Name                         Email  ... Selection Selection\n",
              "0         Manish tiwari           Manisht98@gmail.com  ...       NaN       NaN\n",
              "1       Mohsen Selseleh     mohsen.selseleh@yahoo.com  ...       NaN       NaN\n",
              "2    Sivasankar Vennala  sivasankar.vennala@gmail.co   ...       NaN       NaN\n",
              "3         Anvesh Mishra            Anvesh87@gmail.com  ...       NaN       NaN\n",
              "4  Edwin M'maitsi Mwale              edukoo@gmail.com  ...       NaN       NaN\n",
              "\n",
              "[5 rows x 9 columns]"
            ]
          },
          "metadata": {},
          "execution_count": 223
        }
      ]
    },
    {
      "cell_type": "code",
      "metadata": {
        "id": "OociIdJSHLfN",
        "colab": {
          "base_uri": "https://localhost:8080/",
          "height": 280
        },
        "outputId": "b2d8026a-1fc3-4ef7-bdd1-58b76c998bb0"
      },
      "source": [
        "sns.countplot(x='Time_Commitment',data=df)\n",
        "plt.show()"
      ],
      "execution_count": null,
      "outputs": [
        {
          "output_type": "display_data",
          "data": {
            "image/png": "[encoded data removed]",
            "text/plain": [
              "<Figure size 432x288 with 1 Axes>"
            ]
          },
          "metadata": {
            "needs_background": "light"
          }
        }
      ]
    },
    {
      "cell_type": "code",
      "metadata": {
        "id": "-zzWcDGcHLfN",
        "colab": {
          "base_uri": "https://localhost:8080/",
          "height": 279
        },
        "outputId": "ff004360-f90a-4369-bb90-be7ef1d269cf"
      },
      "source": [
        "sns.countplot(x='Profession',data=df_New)\n",
        "plt.show()"
      ],
      "execution_count": null,
      "outputs": [
        {
          "output_type": "display_data",
          "data": {
            "image/png": "[encoded data removed]",
            "text/plain": [
              "<Figure size 432x288 with 1 Axes>"
            ]
          },
          "metadata": {
            "needs_background": "light"
          }
        }
      ]
    }
  ]
}